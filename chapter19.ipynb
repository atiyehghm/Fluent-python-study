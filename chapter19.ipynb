{
 "cells": [
  {
   "cell_type": "markdown",
   "metadata": {},
   "source": [
    "## Chapter19: Concurrency Models in Python\n",
    "\n",
    "#### Concurrency vs. paralellism\n",
    "\n",
    "concurrency is about dealing with so many things at once but not paralell. paralellism means doing them all at the same time. In concurrency we usually give the system the chance to do many things by improving each in a short time.\n",
    "\n",
    "The main problem with concurrent programming is that you don't know where exactly the running process goes. When you have a function, you know when it ends and how to get the output but in a Thread, you need something like a message queue to handle the thread execution.\n",
    "\n",
    "coroutines are simpler than threads to start and get a value from; but they are hard to monitor like threads.\n"
   ]
  },
  {
   "cell_type": "markdown",
   "metadata": {},
   "source": [
    "#### common words\n",
    "\n",
    "|              **Term**                |           **Definition**              |\n",
    "|----------------------------------|------------------------------------|\n",
    "|        Concurrency               | The ability to handle multiple pending tasks, making progress one at a time or in parallel (if possible) so that each of them eventually succeeds or fails.|\n",
    "|         Paralellism              | The ability to execute multiple computations at **the same time**.|\n",
    "|Execution Unit | Objects that execute code concurrently. Three main kinds: `threads, processes, coroutine`|\n",
    "\n",
    "\n",
    "#### Execution Units\n",
    "\n",
    "| **Term**     | **Definition** |\n",
    "| ------------ | ----------- |\n",
    "| **Process**  | An independent running program with its own memory space. Processes can have child processes and communicate via serialization (pipes, sockets). Uses **preemptive multitasking** managed by OS. |\n",
    "| **Thread**   | An execution unit within a process. Threads share the same memory space, allowing easy data sharing but risking data corruption if not synchronized. Also uses **preemptive multitasking**. |\n",
    "| **Coroutine** | A function that can pause (yield/await) and resume later. Runs cooperatively within an event loop, enabling **asynchronous programming** with minimal resource use compared to threads or processes. |\n",
    "| **Queue**    | A data structure (usually FIFO) for passing items between execution units safely. Different implementations exist for threads (`queue`), multiprocessing, and async (`asyncio`). |\n",
    "| **Lock**     | An object to synchronize access to shared data, preventing data corruption by allowing only one execution unit at a time to modify it. Also called a mutex (mutual exclusion). |\n",
    "| **Contention** | Competition for limited resources, e.g., multiple threads/processes wanting the CPU (CPU contention) or a shared lock (resource contention). Leads to waiting and performance impact. |\n",
    "\n",
    "#### GIL(General Interpreter Lock)\n",
    "\n",
    "GIL is the a lock  that is used in cpython to ensure that **only one thread executes Python bytecode at a time**, even if multiple threads exist. It actually protects tha internal data structures and ensures that the memory management is thread-safe.\n",
    "\n"
   ]
  },
  {
   "cell_type": "markdown",
   "metadata": {},
   "source": [
    "#### Spinner Example with threads"
   ]
  },
  {
   "cell_type": "code",
   "execution_count": 1,
   "metadata": {},
   "outputs": [],
   "source": [
    "import itertools\n",
    "import time\n",
    "from threading import Thread, Event\n",
    "\n",
    "\n",
    "def spin(msg: str, done:Event):\n",
    "    for char in itertools.cycle(r'\\|/-'):\n",
    "        status = f'\\r{char} {msg}'\n",
    "        print(status, end='', flush=True)\n",
    "        if done.wait(.1):\n",
    "            break\n",
    "    blanks = ' ' * len(status)\n",
    "    print(f'\\r{blanks}\\r', end='')\n",
    "\n",
    "def slow() -> int:\n",
    "    time.sleep(3)\n",
    "    return 42"
   ]
  },
  {
   "cell_type": "code",
   "execution_count": 5,
   "metadata": {},
   "outputs": [
    {
     "name": "stdout",
     "output_type": "stream",
     "text": [
      "spinner object: <Thread(Thread-192 (spin), initial)>\n",
      "Answer: 42  \n"
     ]
    }
   ],
   "source": [
    "def supervisor() -> int:\n",
    "    done = Event()\n",
    "    spinner = Thread(target=spin, args=('Thinking!', done))\n",
    "    print(f'spinner object: {spinner}')\n",
    "    spinner.start()\n",
    "    result = slow()\n",
    "    done.set()\n",
    "    spinner.join()\n",
    "    return result\n",
    "\n",
    "def main():\n",
    "    result = supervisor()\n",
    "    print(f'Answer: {result}')\n",
    "\n",
    "if __name__ == \"__main__\":\n",
    "    main()"
   ]
  },
  {
   "cell_type": "markdown",
   "metadata": {},
   "source": [
    "#### Spinner Example with process"
   ]
  },
  {
   "cell_type": "code",
   "execution_count": 6,
   "metadata": {},
   "outputs": [],
   "source": [
    "import itertools\n",
    "import time\n",
    "from multiprocessing import Process, Event\n",
    "from multiprocessing import synchronize\n",
    "\n",
    "def spin(msg: str, done: synchronize.Event):\n",
    "    for char in itertools.cycle(r'\\|/-'):\n",
    "        status = f'\\r{char} {msg}'\n",
    "        print(status, end='', flush=True)\n",
    "        if done.wait(.1):\n",
    "            break\n",
    "    blanks = ' ' * len(status)\n",
    "    print(f'\\r{blanks}\\r', end='')\n",
    "\n",
    "\n",
    "def slow() -> int:\n",
    "    time.sleep(3)\n",
    "    return 42"
   ]
  },
  {
   "cell_type": "code",
   "execution_count": 10,
   "metadata": {},
   "outputs": [
    {
     "name": "stdout",
     "output_type": "stream",
     "text": [
      "spinner object: <Process name='Process-3' parent=31951 initial>\n",
      "Answer: 42  \n"
     ]
    }
   ],
   "source": [
    "def supervisor() -> int:\n",
    "    done = Event()\n",
    "    spinner = Process(target=spin, args=('Thinking!', done))\n",
    "    print(f'spinner object: {spinner}')\n",
    "    spinner.start()\n",
    "    result = slow()\n",
    "    done.set()\n",
    "    spinner.join()\n",
    "    return result\n",
    "\n",
    "\n",
    "def main():\n",
    "    result = supervisor()\n",
    "    print(f'Answer: {result}')\n",
    "\n",
    "if __name__ == \"__main__\":\n",
    "    main()"
   ]
  },
  {
   "cell_type": "markdown",
   "metadata": {},
   "source": [
    "#### Spinner Example with coroutines"
   ]
  },
  {
   "cell_type": "markdown",
   "metadata": {},
   "source": [
    "!WARNING: You can not run event loops of coroutines in jupyter notebook. so copy the code in simple python file."
   ]
  },
  {
   "cell_type": "code",
   "execution_count": 4,
   "metadata": {},
   "outputs": [],
   "source": [
    "import asyncio\n",
    "import itertools\n",
    "\n",
    "async def spin(msg: str) -> None:\n",
    "    for char in itertools.cycle(r'\\|/-'):\n",
    "        status = f'\\r{char} {msg}'\n",
    "        print(status, flush=True, end='')\n",
    "        try:\n",
    "            await asyncio.sleep(.1)\n",
    "        except asyncio.CancelledError:\n",
    "            break\n",
    "    blanks = ' ' * len(status)\n",
    "    print(f'\\r{blanks}\\r', end='')\n",
    "\n",
    "async def slow() -> int:\n",
    "    await asyncio.sleep(3)\n",
    "    return 42"
   ]
  },
  {
   "cell_type": "code",
   "execution_count": null,
   "metadata": {},
   "outputs": [],
   "source": [
    "import asyncio\n",
    "\n",
    "async def supervisor() -> int:\n",
    "    spinner = asyncio.create_task(spin('Thinking!'))\n",
    "    print(f'spinner object: {spinner}')\n",
    "    result = await slow()\n",
    "    spinner.cancel()\n",
    "    return result \n",
    "\n",
    "def main() -> None:\n",
    "    result = asyncio.run(supervisor())\n",
    "    print(f'Answer: {result}')\n",
    "\n",
    "if __name__ == '__main__':\n",
    "    main()"
   ]
  },
  {
   "cell_type": "markdown",
   "metadata": {},
   "source": [
    "### An Experiment\n",
    "\n",
    "in this code you won't see the spinner. why? beacause the app that has a coroutine only has one line of execution and when you run multiple coroutines, it just passes the control between coroutines.\n",
    "\n",
    "**Concurrency is achieved by control passing from one coroutine to another.**\n",
    "\n",
    "\n",
    "**IMPORTANT:** Never use `time.sleep()` in a coroutine. it blocks the whole main thread. if a coroutine needs to spend some time doing nothing use `asyncio.sleep` instead."
   ]
  },
  {
   "cell_type": "code",
   "execution_count": null,
   "metadata": {},
   "outputs": [],
   "source": [
    "import asyncio\n",
    "import itertools\n",
    "import time\n",
    "\n",
    "async def spin(msg: str) -> None:\n",
    "    for char in itertools.cycle(r'\\|/-'):\n",
    "        status = f'\\r{char} {msg}'\n",
    "        print(status, flush=True, end='')\n",
    "        try:\n",
    "            await asyncio.sleep(.1)\n",
    "        except asyncio.CancelledError:\n",
    "            break\n",
    "    blanks = ' ' * len(status)\n",
    "    print(f'\\r{blanks}\\r', end='')\n",
    "\n",
    "async def slow() -> int:\n",
    "    time.sleep(5)\n",
    "    return 42\n",
    "\n",
    "async def supervisor() -> int:\n",
    "    spinner = asyncio.create_task(spin('Thinking!'))\n",
    "    print(f'spinner object: {spinner}')\n",
    "    result = await slow()\n",
    "    spinner.cancel()\n",
    "    return result \n",
    "\n",
    "def main() -> None:\n",
    "    result = asyncio.run(supervisor())\n",
    "    print(f'Answer: {result}')\n",
    "\n",
    "if __name__ == '__main__':\n",
    "    main()"
   ]
  },
  {
   "cell_type": "markdown",
   "metadata": {},
   "source": [
    "## Coroutines vs. Threads\n",
    "\n",
    "|     Threads     |    Coroutines    |\n",
    "|-----------------|------------------|\n",
    "|you must remember to hold locks to protect the critical sections. | your code is protected against intrruption by default.|\n"
   ]
  },
  {
   "cell_type": "markdown",
   "metadata": {},
   "source": [
    "## GIL\n",
    "\n"
   ]
  },
  {
   "cell_type": "code",
   "execution_count": 5,
   "metadata": {},
   "outputs": [],
   "source": [
    "import math\n",
    "\n",
    "def is_prime(n: int) -> bool:\n",
    "    if n < 2:\n",
    "        return False\n",
    "    if n == 2:\n",
    "        return True\n",
    "    if n % 2 == 0:\n",
    "        return False\n",
    "\n",
    "    root = math.isqrt(n)\n",
    "    for i in range (3, root + 1, 2):\n",
    "        if n % i == 0:\n",
    "            return False\n",
    "    return True"
   ]
  },
  {
   "cell_type": "code",
   "execution_count": 7,
   "metadata": {},
   "outputs": [
    {
     "name": "stdout",
     "output_type": "stream",
     "text": [
      "582 ms ± 2.34 ms per loop (mean ± std. dev. of 7 runs, 1 loop each)\n"
     ]
    }
   ],
   "source": [
    "%timeit is_prime(5000111000222021)"
   ]
  },
  {
   "cell_type": "markdown",
   "metadata": {},
   "source": [
    "Now first answer these questions without implementation. Then, go on and implement to see How GIL works.\n",
    "\n",
    "What would happen to the spinner animation if you made the following changes, assuming that n = 5_000_111_000_222_021—that prime which my machine takes 3.3s to verify:\n",
    "\n",
    "1. In `spinner_proc.py`, replace `time.sleep(3)` with a call to `is_prime(n)`?\n",
    "2. In `spinner_thread.py`, replace time.sleep(3) with a call to `is_prime(n)`?\n",
    "3. In `spinner_async.py`, replace await `is_prime(n)`?\n"
   ]
  },
  {
   "cell_type": "markdown",
   "metadata": {},
   "source": [
    "##### Conclusion\n",
    "\n",
    "**GIL**: The GIL is a mutex that allows only one thread to execute Python bytecode at a time in a CPython interpreter process.\n",
    "\n",
    "GIL affects the concurrency types differently:\n",
    "\n",
    "- **Processes**: each process has its own interpreter and its own GIL. --> Ture parallelism.\n",
    "\n",
    "- **Threads**: Threads share one process and one GIL. --> Context switch\n",
    "\n",
    "- **Coroutines**: Run in single thread and process. --> Cooperative Multitasking\n"
   ]
  },
  {
   "cell_type": "code",
   "execution_count": 10,
   "metadata": {},
   "outputs": [],
   "source": [
    "import math\n",
    "\n",
    "def is_prime(n: int) -> bool:\n",
    "    if n < 2:\n",
    "        return False\n",
    "    if n == 2:\n",
    "        return True\n",
    "    if n % 2 == 0:\n",
    "        return False\n",
    "\n",
    "    root = math.isqrt(n)\n",
    "    for i in range (3, root + 1, 2):\n",
    "        if n % i == 0:\n",
    "            return False\n",
    "    return True\n",
    "\n",
    "NUMBERS = [2, 142702110479723, 299593572317531, 3333333333333301, 3333333333333333, 3333335652092209, 4444444444444423, 4444444444444444, 4444444488888889, 5555553133149889, 5555555555555503\n",
    ", 5555555555555555, 6666666666666666, 6666666666666719, 6666667141414921, 7777777536340681, 7777777777777753, 7777777777777777, 9999999999999917, 9999999999999999]"
   ]
  },
  {
   "cell_type": "code",
   "execution_count": null,
   "metadata": {},
   "outputs": [
    {
     "name": "stdout",
     "output_type": "stream",
     "text": [
      "Checking 20 numbers sequentially:\n",
      "P        2  0.000000s\n",
      "P   142702110479723  0.108422s\n",
      "P   299593572317531  0.142095s\n",
      "P   3333333333333301  0.478041s\n",
      "    3333333333333333  0.000003s\n",
      "    3333335652092209  0.480353s\n",
      "P   4444444444444423  0.563003s\n",
      "    4444444444444444  0.000000s\n",
      "    4444444488888889  0.546856s\n",
      "    5555553133149889  0.610841s\n",
      "P   5555555555555503  0.614783s\n",
      "    5555555555555555  0.000003s\n",
      "    6666666666666666  0.000000s\n",
      "P   6666666666666719  0.675547s\n",
      "    6666667141414921  0.670985s\n",
      "    7777777536340681  0.725642s\n",
      "P   7777777777777753  0.723081s\n",
      "    7777777777777777  0.000003s\n",
      "P   9999999999999917  0.873790s\n",
      "    9999999999999999  0.000003s\n",
      "Total time: 7.21s\n"
     ]
    }
   ],
   "source": [
    "from time import perf_counter\n",
    "from typing import NamedTuple\n",
    "\n",
    "\n",
    "class Result(NamedTuple):\n",
    "    prime: bool\n",
    "    elapsed: float\n",
    "\n",
    "def check(n: int) -> Result:\n",
    "    t0 = perf_counter()\n",
    "    prime = is_prime(n)\n",
    "    return Result(prime, perf_counter() - t0)\n",
    "\n",
    "def main() -> None:\n",
    "    print(f'Checking {len(NUMBERS)} numbers sequentially:')\n",
    "    t0 = perf_counter()\n",
    "    for n in NUMBERS:\n",
    "        prime, elapsed = check(n)\n",
    "        label = 'P' if prime else \" \"\n",
    "        print(f'{label:3} {n:6} {elapsed:9.6f}s')\n",
    "\n",
    "    elapsed = perf_counter() - t0\n",
    "    print(f'Total time: {elapsed:.2f}s')\n",
    "\n",
    "if __name__ == '__main__':\n",
    "    main()"
   ]
  },
  {
   "cell_type": "code",
   "execution_count": 20,
   "metadata": {},
   "outputs": [
    {
     "name": "stdout",
     "output_type": "stream",
     "text": [
      "Checking 20 numbers with 24 processes:\n",
      "               2   P    0.000008s\n",
      "3333333333333333        0.000017s\n",
      "4444444444444444        0.000003s\n",
      "5555555555555555        0.000008s\n",
      "6666666666666666        0.000000s\n",
      "7777777777777777        0.000010s\n",
      "9999999999999999        0.000009s\n",
      " 142702110479723   P    0.115831s\n",
      " 299593572317531   P    0.171457s\n",
      "3333333333333301   P    0.535311s\n",
      "3333335652092209        0.553660s\n",
      "4444444444444423   P    0.633849s\n",
      "4444444488888889        0.630774s\n",
      "5555553133149889        0.822176s\n",
      "5555555555555503   P    0.830275s\n",
      "6666666666666719   P    0.832808s\n",
      "6666667141414921        0.848129s\n",
      "7777777777777753   P    0.905185s\n",
      "7777777536340681        0.972274s\n",
      "9999999999999917   P    1.005811s\n",
      "20 checks in 1.04s\n"
     ]
    }
   ],
   "source": [
    "## procs.py\n",
    "import sys\n",
    "from time import perf_counter\n",
    "from typing import NamedTuple\n",
    "from multiprocessing import Process, SimpleQueue, cpu_count, queues\n",
    "\n",
    "class PrimeResult(NamedTuple):\n",
    "    n: int\n",
    "    prime: bool\n",
    "    elapsed: float\n",
    "\n",
    "JobQueue = queues.SimpleQueue[int]\n",
    "ResultQueue = queues.SimpleQueue[PrimeResult]\n",
    "\n",
    "def check(n: int) -> None:\n",
    "    t0 = perf_counter()\n",
    "    res = is_prime(n)\n",
    "    return PrimeResult(n, res, perf_counter()-t0)\n",
    "\n",
    "def worker(jobs: JobQueue, results: ResultQueue) -> None:\n",
    "    while n := jobs.get():\n",
    "        results.put(check(n))\n",
    "    results.put(PrimeResult(0, False, 0.0))\n",
    "\n",
    "def start_jobs(\n",
    "    procs: int, jobs: JobQueue, results: ResultQueue\n",
    ") -> None:\n",
    "    for n in NUMBERS:\n",
    "        jobs.put(n)\n",
    "    for _ in range(procs):\n",
    "        proc = Process(target=worker, args=(jobs, results))\n",
    "        proc.start()\n",
    "        jobs.put(0)\n",
    "\n",
    "def main():\n",
    "    procs = cpu_count()\n",
    "\n",
    "    print(f'Checking {len(NUMBERS)} numbers with {procs} processes:')\n",
    "    t0 = perf_counter()\n",
    "    jobs: JobQueue = SimpleQueue()\n",
    "    results: ResultQueue = SimpleQueue()\n",
    "    start_jobs(procs, jobs, results)\n",
    "    checked = report(procs, results)\n",
    "    elapsed = perf_counter() - t0\n",
    "    print(f'{checked} checks in {elapsed:.2f}s')\n",
    "\n",
    "\n",
    "def report(procs: int, results:ResultQueue) -> int:\n",
    "    checked = 0\n",
    "    procs_done = 0\n",
    "    while procs_done < procs:\n",
    "        n, prime, elapsed = results.get()\n",
    "        if n == 0:\n",
    "            procs_done += 1\n",
    "        else:\n",
    "            checked += 1\n",
    "            label = 'P' if prime else ' '\n",
    "            print(f'{n:16}   {label}   {elapsed:9.6f}s')\n",
    "    return checked\n",
    "\n",
    "if __name__=='__main__':\n",
    "    main()"
   ]
  },
  {
   "cell_type": "code",
   "execution_count": null,
   "metadata": {},
   "outputs": [
    {
     "data": {
      "text/plain": [
       "24"
      ]
     },
     "execution_count": 22,
     "metadata": {},
     "output_type": "execute_result"
    }
   ],
   "source": [
    "## The number of cores for CPU calculation\n",
    "cpu_count()"
   ]
  },
  {
   "cell_type": "markdown",
   "metadata": {},
   "source": [
    "### Chapter Summary\n",
    "\n",
    "-  CPU-intensive fucntions must be avoided in `asyncio`, as they block the event loop.\n",
    "-  Only processes allow python to benefit from multi core CPUs. \n",
    "-  Pythons's GIL makes threads worse than sequential code for heavy computations.\n"
   ]
  },
  {
   "cell_type": "markdown",
   "metadata": {},
   "source": []
  }
 ],
 "metadata": {
  "kernelspec": {
   "display_name": ".venv",
   "language": "python",
   "name": "python3"
  },
  "language_info": {
   "codemirror_mode": {
    "name": "ipython",
    "version": 3
   },
   "file_extension": ".py",
   "mimetype": "text/x-python",
   "name": "python",
   "nbconvert_exporter": "python",
   "pygments_lexer": "ipython3",
   "version": "3.12.3"
  }
 },
 "nbformat": 4,
 "nbformat_minor": 2
}
