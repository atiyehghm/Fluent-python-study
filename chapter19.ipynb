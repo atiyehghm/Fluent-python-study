{
 "cells": [
  {
   "cell_type": "markdown",
   "metadata": {},
   "source": [
    "## Chapter19: Concurrency Models in Python\n",
    "\n",
    "#### Concurrency vs. paralellism\n",
    "\n",
    "concurrency is about dealing with so many things at once but not paralell. paralellism means doing them all at the same time. In concurrency we usually give the system the chance to do many things by improving each in a short time.\n",
    "\n",
    "The main problem with concurrent programming is that you don't know where exactly the running process goes. When you have a function, you know when it ends and how to get the output but in a Thread, you need something like a message queue to handle the thread execution.\n",
    "\n",
    "coroutines are simpler than threads to start and get a value from; but they are hard to monitor like threads.\n"
   ]
  },
  {
   "cell_type": "markdown",
   "metadata": {},
   "source": [
    "#### common words\n",
    "\n",
    "|              **Term**                |           **Definition**              |\n",
    "|----------------------------------|------------------------------------|\n",
    "|        Concurrency               | The ability to handle multiple pending tasks, making progress one at a time or in parallel (if possible) so that each of them eventually succeeds or fails.|\n",
    "|         Paralellism              | The ability to execute multiple computations at **the same time**.|\n",
    "|Execution Unit | Objects that execute code concurrently. Three main kinds: `threads, processes, coroutine`|\n",
    "\n",
    "\n",
    "#### Execution Units\n",
    "\n",
    "| **Term**     | **Definition** |\n",
    "| ------------ | ----------- |\n",
    "| **Process**  | An independent running program with its own memory space. Processes can have child processes and communicate via serialization (pipes, sockets). Uses **preemptive multitasking** managed by OS. |\n",
    "| **Thread**   | An execution unit within a process. Threads share the same memory space, allowing easy data sharing but risking data corruption if not synchronized. Also uses **preemptive multitasking**. |\n",
    "| **Coroutine** | A function that can pause (yield/await) and resume later. Runs cooperatively within an event loop, enabling **asynchronous programming** with minimal resource use compared to threads or processes. |\n",
    "| **Queue**    | A data structure (usually FIFO) for passing items between execution units safely. Different implementations exist for threads (`queue`), multiprocessing, and async (`asyncio`). |\n",
    "| **Lock**     | An object to synchronize access to shared data, preventing data corruption by allowing only one execution unit at a time to modify it. Also called a mutex (mutual exclusion). |\n",
    "| **Contention** | Competition for limited resources, e.g., multiple threads/processes wanting the CPU (CPU contention) or a shared lock (resource contention). Leads to waiting and performance impact. |\n",
    "\n",
    "#### GIL(General Interpreter Lock)\n",
    "\n",
    "GIL is the a lock  that is used in cpython to ensure that **only one thread executes Python bytecode at a time**, even if multiple threads exist. It actually protects tha internal data structures and ensures that the memory management is thread-safe.\n",
    "\n"
   ]
  },
  {
   "cell_type": "markdown",
   "metadata": {},
   "source": [
    "#### Spinner Example with threads"
   ]
  },
  {
   "cell_type": "code",
   "execution_count": 1,
   "metadata": {},
   "outputs": [],
   "source": [
    "import itertools\n",
    "import time\n",
    "from threading import Thread, Event\n",
    "\n",
    "\n",
    "def spin(msg: str, done:Event):\n",
    "    for char in itertools.cycle(r'\\|/-'):\n",
    "        status = f'\\r{char} {msg}'\n",
    "        print(status, end='', flush=True)\n",
    "        if done.wait(.1):\n",
    "            break\n",
    "    blanks = ' ' * len(status)\n",
    "    print(f'\\r{blanks}\\r', end='')\n",
    "\n",
    "def slow() -> int:\n",
    "    time.sleep(3)\n",
    "    return 42"
   ]
  },
  {
   "cell_type": "code",
   "execution_count": 5,
   "metadata": {},
   "outputs": [
    {
     "name": "stdout",
     "output_type": "stream",
     "text": [
      "spinner object: <Thread(Thread-192 (spin), initial)>\n",
      "Answer: 42  \n"
     ]
    }
   ],
   "source": [
    "def supervisor() -> int:\n",
    "    done = Event()\n",
    "    spinner = Thread(target=spin, args=('Thinking!', done))\n",
    "    print(f'spinner object: {spinner}')\n",
    "    spinner.start()\n",
    "    result = slow()\n",
    "    done.set()\n",
    "    spinner.join()\n",
    "    return result\n",
    "\n",
    "def main():\n",
    "    result = supervisor()\n",
    "    print(f'Answer: {result}')\n",
    "\n",
    "if __name__ == \"__main__\":\n",
    "    main()"
   ]
  },
  {
   "cell_type": "markdown",
   "metadata": {},
   "source": [
    "#### Spinner Example with process"
   ]
  },
  {
   "cell_type": "code",
   "execution_count": 6,
   "metadata": {},
   "outputs": [],
   "source": [
    "import itertools\n",
    "import time\n",
    "from multiprocessing import Process, Event\n",
    "from multiprocessing import synchronize\n",
    "\n",
    "def spin(msg: str, done: synchronize.Event):\n",
    "    for char in itertools.cycle(r'\\|/-'):\n",
    "        status = f'\\r{char} {msg}'\n",
    "        print(status, end='', flush=True)\n",
    "        if done.wait(.1):\n",
    "            break\n",
    "    blanks = ' ' * len(status)\n",
    "    print(f'\\r{blanks}\\r', end='')\n",
    "\n",
    "\n",
    "def slow() -> int:\n",
    "    time.sleep(3)\n",
    "    return 42"
   ]
  },
  {
   "cell_type": "code",
   "execution_count": 10,
   "metadata": {},
   "outputs": [
    {
     "name": "stdout",
     "output_type": "stream",
     "text": [
      "spinner object: <Process name='Process-3' parent=31951 initial>\n",
      "Answer: 42  \n"
     ]
    }
   ],
   "source": [
    "def supervisor() -> int:\n",
    "    done = Event()\n",
    "    spinner = Process(target=spin, args=('Thinking!', done))\n",
    "    print(f'spinner object: {spinner}')\n",
    "    spinner.start()\n",
    "    result = slow()\n",
    "    done.set()\n",
    "    spinner.join()\n",
    "    return result\n",
    "\n",
    "\n",
    "def main():\n",
    "    result = supervisor()\n",
    "    print(f'Answer: {result}')\n",
    "\n",
    "if __name__ == \"__main__\":\n",
    "    main()"
   ]
  },
  {
   "cell_type": "markdown",
   "metadata": {},
   "source": [
    "#### Spinner Example with coroutines"
   ]
  },
  {
   "cell_type": "markdown",
   "metadata": {},
   "source": [
    "!WARNING: You can not run event loops of coroutines in jupyter notebook. so copy the code in simple python file."
   ]
  },
  {
   "cell_type": "code",
   "execution_count": 4,
   "metadata": {},
   "outputs": [],
   "source": [
    "import asyncio\n",
    "import itertools\n",
    "\n",
    "async def spin(msg: str) -> None:\n",
    "    for char in itertools.cycle(r'\\|/-'):\n",
    "        status = f'\\r{char} {msg}'\n",
    "        print(status, flush=True, end='')\n",
    "        try:\n",
    "            await asyncio.sleep(.1)\n",
    "        except asyncio.CancelledError:\n",
    "            break\n",
    "    blanks = ' ' * len(status)\n",
    "    print(f'\\r{blanks}\\r', end='')\n",
    "\n",
    "async def slow() -> int:\n",
    "    await asyncio.sleep(3)\n",
    "    return 42"
   ]
  },
  {
   "cell_type": "code",
   "execution_count": null,
   "metadata": {},
   "outputs": [],
   "source": [
    "import asyncio\n",
    "\n",
    "async def supervisor() -> int:\n",
    "    spinner = asyncio.create_task(spin('Thinking!'))\n",
    "    print(f'spinner object: {spinner}')\n",
    "    result = await slow()\n",
    "    spinner.cancel()\n",
    "    return result \n",
    "\n",
    "def main() -> None:\n",
    "    result = asyncio.run(supervisor())\n",
    "    print(f'Answer: {result}')\n",
    "\n",
    "if __name__ == '__main__':\n",
    "    main()"
   ]
  },
  {
   "cell_type": "markdown",
   "metadata": {},
   "source": [
    "### An Experiment\n",
    "\n",
    "in this code you won't see the spinner. why? beacause the app that has a coroutine only has one line of execution and when you run multiple coroutines, it just passes the control between coroutines.\n",
    "\n",
    "**Concurrency is achieved by control passing from one coroutine to another.**\n",
    "\n",
    "\n",
    "**IMPORTANT:** Never use `time.sleep()` in a coroutine. it blocks the whole main thread. if a coroutine needs to spend some time doing nothing use `asyncio.sleep` instead."
   ]
  },
  {
   "cell_type": "code",
   "execution_count": null,
   "metadata": {},
   "outputs": [],
   "source": [
    "import asyncio\n",
    "import itertools\n",
    "import time\n",
    "\n",
    "async def spin(msg: str) -> None:\n",
    "    for char in itertools.cycle(r'\\|/-'):\n",
    "        status = f'\\r{char} {msg}'\n",
    "        print(status, flush=True, end='')\n",
    "        try:\n",
    "            await asyncio.sleep(.1)\n",
    "        except asyncio.CancelledError:\n",
    "            break\n",
    "    blanks = ' ' * len(status)\n",
    "    print(f'\\r{blanks}\\r', end='')\n",
    "\n",
    "async def slow() -> int:\n",
    "    time.sleep(5)\n",
    "    return 42\n",
    "\n",
    "async def supervisor() -> int:\n",
    "    spinner = asyncio.create_task(spin('Thinking!'))\n",
    "    print(f'spinner object: {spinner}')\n",
    "    result = await slow()\n",
    "    spinner.cancel()\n",
    "    return result \n",
    "\n",
    "def main() -> None:\n",
    "    result = asyncio.run(supervisor())\n",
    "    print(f'Answer: {result}')\n",
    "\n",
    "if __name__ == '__main__':\n",
    "    main()"
   ]
  },
  {
   "cell_type": "markdown",
   "metadata": {},
   "source": [
    "## Coroutines vs. Threads\n",
    "\n",
    "|     Threads     |    Coroutines    |\n",
    "|-----------------|------------------|\n",
    "|you must remember to hold locks to protect the critical sections. | your code is protected against intrruption by default.|\n"
   ]
  },
  {
   "cell_type": "markdown",
   "metadata": {},
   "source": [
    "## GIL\n",
    "\n"
   ]
  },
  {
   "cell_type": "code",
   "execution_count": 5,
   "metadata": {},
   "outputs": [],
   "source": [
    "import math\n",
    "\n",
    "def is_prime(n: int) -> bool:\n",
    "    if n < 2:\n",
    "        return False\n",
    "    if n == 2:\n",
    "        return True\n",
    "    if n % 2 == 0:\n",
    "        return False\n",
    "\n",
    "    root = math.isqrt(n)\n",
    "    for i in range (3, root + 1, 2):\n",
    "        if n % i == 0:\n",
    "            return False\n",
    "    return True"
   ]
  },
  {
   "cell_type": "code",
   "execution_count": 7,
   "metadata": {},
   "outputs": [
    {
     "name": "stdout",
     "output_type": "stream",
     "text": [
      "582 ms ± 2.34 ms per loop (mean ± std. dev. of 7 runs, 1 loop each)\n"
     ]
    }
   ],
   "source": [
    "%timeit is_prime(5000111000222021)"
   ]
  },
  {
   "cell_type": "markdown",
   "metadata": {},
   "source": [
    "Now first answer these questions without implementation. Then, go on and implement to see How GIL works.\n",
    "\n",
    "What would happen to the spinner animation if you made the following changes, assuming that n = 5_000_111_000_222_021—that prime which my machine takes 3.3s to verify:\n",
    "\n",
    "1. In `spinner_proc.py`, replace `time.sleep(3)` with a call to `is_prime(n)`?\n",
    "2. In `spinner_thread.py`, replace time.sleep(3) with a call to `is_prime(n)`?\n",
    "3. In `spinner_async.py`, replace await `is_prime(n)`?\n"
   ]
  },
  {
   "cell_type": "markdown",
   "metadata": {},
   "source": [
    "##### Conclusion\n",
    "\n",
    "**GIL**: The GIL is a mutex that allows only one thread to execute Python bytecode at a time in a CPython interpreter process.\n",
    "\n",
    "GIL affects the concurrency types differently:\n",
    "\n",
    "- **Processes**: each process has its own interpreter and its own GIL. --> Ture parallelism.\n",
    "\n",
    "- **Threads**: Threads share one process and one GIL. --> Context switch\n",
    "\n",
    "- **Coroutines**: Run in single thread and process. --> Cooperative Multitasking\n"
   ]
  },
  {
   "cell_type": "code",
   "execution_count": null,
   "metadata": {},
   "outputs": [],
   "source": []
  }
 ],
 "metadata": {
  "kernelspec": {
   "display_name": ".venv",
   "language": "python",
   "name": "python3"
  },
  "language_info": {
   "codemirror_mode": {
    "name": "ipython",
    "version": 3
   },
   "file_extension": ".py",
   "mimetype": "text/x-python",
   "name": "python",
   "nbconvert_exporter": "python",
   "pygments_lexer": "ipython3",
   "version": "3.12.3"
  }
 },
 "nbformat": 4,
 "nbformat_minor": 2
}
