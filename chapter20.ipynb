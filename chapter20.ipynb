{
 "cells": [
  {
   "cell_type": "markdown",
   "id": "f730ebdb",
   "metadata": {},
   "source": [
    "## Chapter 20: Concurrent Executers\n",
    "\n"
   ]
  },
  {
   "cell_type": "code",
   "execution_count": 2,
   "id": "cecff561",
   "metadata": {},
   "outputs": [
    {
     "name": "stdout",
     "output_type": "stream",
     "text": [
      "BD BR CD CN DE EG ET FR ID IN IR JP MX NG PH PK RU TR US VN \n",
      "20 downloads in 35.22s\n"
     ]
    }
   ],
   "source": [
    "## flags.py\n",
    "\n",
    "import time\n",
    "from pathlib import Path\n",
    "from typing import Callable, List\n",
    "\n",
    "import httpx\n",
    "\n",
    "POP20_CC = ('CN IN US ID BR PK NG BD RU JP MX PH VN ET EG DE IR TR CD FR').split()\n",
    "\n",
    "BASE_URL = 'https://www.fluentpython.com/data/flags'\n",
    "DEST_DIR = Path('downloaded')\n",
    "\n",
    "def save_flag(img: bytes, filename: str) -> None:\n",
    "    (DEST_DIR/ filename).write_bytes(img)\n",
    "\n",
    "def get_flag(cc: str) -> bytes:\n",
    "    url = f'{BASE_URL}/{cc}/{cc}.gif'.lower()\n",
    "    resp = httpx.get(url, timeout=6.1, follow_redirects=True)\n",
    "    resp.raise_for_status()\n",
    "    return resp.content\n",
    "\n",
    "def download_many(cc_list: List[str]) -> int:\n",
    "    for cc in sorted(cc_list):\n",
    "        image = get_flag(cc)\n",
    "        save_flag(image, f'{cc}.gif')\n",
    "        print(cc, end= ' ', flush=True)\n",
    "    return len(cc_list)\n",
    "\n",
    "\n",
    "def main(downloader: Callable[[list[str]], int]) -> None:\n",
    "    DEST_DIR.mkdir(exist_ok=True)\n",
    "    t0 = time.perf_counter()\n",
    "    count = downloader(POP20_CC)\n",
    "    elapsed = time.perf_counter() - t0\n",
    "    print(f'\\n{count} downloads in {elapsed:.2f}s')\n",
    "\n",
    "\n",
    "if __name__ == '__main__':\n",
    "    main(download_many)"
   ]
  },
  {
   "cell_type": "code",
   "execution_count": 3,
   "id": "d10f3041",
   "metadata": {},
   "outputs": [
    {
     "name": "stdout",
     "output_type": "stream",
     "text": [
      "FR ID ET DE CN NG BD JP US CD MX VN IN PK BR PH EG RU IR TR \n",
      "20 downloads in 4.14s\n"
     ]
    }
   ],
   "source": [
    "from concurrent import futures\n",
    "\n",
    "def download_one(cc: str) -> str:\n",
    "    image = get_flag(cc)\n",
    "    save_flag(image, f'{cc}.gif')\n",
    "    print(cc, end=' ', flush=True)\n",
    "    return cc\n",
    "\n",
    "def download_many(cc_list: List[str]) -> int:\n",
    "    with futures.ThreadPoolExecutor() as executers:\n",
    "        res = executers.map(download_one, sorted(cc_list))\n",
    "    \n",
    "    return len(list(res))\n",
    "\n",
    "\n",
    "if __name__ == '__main__': \n",
    "    main(download_many)"
   ]
  },
  {
   "cell_type": "markdown",
   "id": "f5eaf386",
   "metadata": {},
   "source": [
    "### What are `futures`?\n",
    "\n",
    "**future**: It is used in asyncio, concurrent.futures and standard library. An instance of future represents a deferred computation that may or may not have completed.\n",
    "\n",
    "Futures encapsulate pending operations so that we can put them in queues, check whether they are done, and retrieve results (or exceptions) when they become available. \n",
    "\n",
    "**IMPORTANT**: We don't make an instance future ourselves. this should be handled by framework. Why? A future is an instance of an operation that will eventually be run.therefore it must be scheduled to run, and that’s the job of the framework.\n",
    "\n",
    "You submit a task to a thread or process pool. You can:\n",
    "\n",
    "Call `.done()` repeatedly to check if it’s finished (polling, which is inefficient), or...\n",
    "\n",
    "Use `.add_done_callback()` to register a function that should be automatically called once the task is done.\n"
   ]
  },
  {
   "cell_type": "markdown",
   "id": "3c402ee4",
   "metadata": {},
   "source": [
    "##### `.result()` vs. `.done()`\n",
    "\n",
    "🔹 `.done()` — \"Is it finished yet?\"\n",
    "- Returns a boolean: True if the task has finished, False otherwise.\n",
    "\n",
    "- Non-blocking — it gives you an immediate answer.\n",
    "\n",
    "- It does not return the result of the task.\n",
    "\n",
    "----\n",
    "\n",
    "🔸 `.result()` — \"Give me the result!\"\n",
    "- Returns the actual result of the function you submitted.\n",
    "\n",
    "- Blocking — if the task is not done yet, .result() waits until it is.\n",
    "\n",
    "- Raises an exception if the function raised one during execution."
   ]
  },
  {
   "cell_type": "markdown",
   "id": "3fc4fdcb",
   "metadata": {},
   "source": [
    "##### Running Futures ( `executor.map()` vs. `futures.as_completed()`)\n",
    "\n",
    "`map` function is like the map in lists. the behavior is as follows:\n",
    "- Submits all tasks at once.\n",
    "\n",
    "- Blocks until all tasks are done.\n",
    "\n",
    "- You don’t get access to individual Future objects.\n",
    "\n",
    "- Results are returned in **input order**, regardless of when each finishes.\n",
    "\n",
    "`as_completed()` takes a list of `futures` and yields them as they complete in **any order**."
   ]
  },
  {
   "cell_type": "code",
   "execution_count": 4,
   "id": "471afae2",
   "metadata": {},
   "outputs": [
    {
     "name": "stdout",
     "output_type": "stream",
     "text": [
      "100\n",
      "81\n",
      "64\n",
      "49\n",
      "36\n",
      "25\n",
      "16\n",
      "9\n",
      "4\n",
      "1\n"
     ]
    }
   ],
   "source": [
    "from concurrent.futures import ThreadPoolExecutor\n",
    "import time\n",
    "\n",
    "def slow_square(n):\n",
    "    time.sleep(n)\n",
    "    return n * n\n",
    "\n",
    "with ThreadPoolExecutor() as executor:\n",
    "    results = executor.map(slow_square, list(range(10, 0, -1)))\n",
    "\n",
    "for r in results:\n",
    "    print(r)\n"
   ]
  },
  {
   "cell_type": "code",
   "execution_count": 5,
   "id": "1cdc8c8f",
   "metadata": {},
   "outputs": [
    {
     "name": "stdout",
     "output_type": "stream",
     "text": [
      "1\n",
      "4\n",
      "9\n",
      "16\n",
      "25\n",
      "36\n",
      "49\n",
      "64\n",
      "81\n",
      "100\n"
     ]
    }
   ],
   "source": [
    "from concurrent.futures import ThreadPoolExecutor, as_completed\n",
    "\n",
    "def slow_square(n):\n",
    "    time.sleep(n)\n",
    "    return n * n\n",
    "\n",
    "with ThreadPoolExecutor() as executor:\n",
    "    futures = [executor.submit(slow_square, n) for n in range(10, 0, -1)]\n",
    "\n",
    "    for future in as_completed(futures):\n",
    "        print(future.result())"
   ]
  },
  {
   "cell_type": "markdown",
   "id": "f7cdf20e",
   "metadata": {},
   "source": [
    "**IMPORTANT**: processes are better for CPU-intensive tasks while threads and async programs are suitable for IO-bound tasks. Because processes have their own pyhton interpreter and memory but threads share the memory."
   ]
  },
  {
   "cell_type": "markdown",
   "id": "1364cea3",
   "metadata": {},
   "source": []
  }
 ],
 "metadata": {
  "kernelspec": {
   "display_name": ".venv",
   "language": "python",
   "name": "python3"
  },
  "language_info": {
   "codemirror_mode": {
    "name": "ipython",
    "version": 3
   },
   "file_extension": ".py",
   "mimetype": "text/x-python",
   "name": "python",
   "nbconvert_exporter": "python",
   "pygments_lexer": "ipython3",
   "version": "3.12.3"
  }
 },
 "nbformat": 4,
 "nbformat_minor": 5
}
