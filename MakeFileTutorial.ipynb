{
 "cells": [
  {
   "cell_type": "markdown",
   "id": "3158205e",
   "metadata": {},
   "source": [
    "## MakeFile Tutorial\n",
    "\n",
    "\n",
    "#### Why to use MakeFiles\n",
    "\n",
    "- The short answer is: to avoid the \"It worked on my machine\" situation.\n",
    "\n",
    "- MakeFile is an alternative to a bunch of bash scripts used to automate tedious tasks.\n",
    "\n",
    "- But when you have more than one bash script, the hidden dependencies may arrive. you have to run `script_1` before `script_2`.\n",
    "\n",
    "\n",
    "A Makefile consists of “rules” in the following form:\n",
    "\n",
    "```\n",
    "target: dependency1, dependency2, …\n",
    "<TAB>recipe line\n",
    "<TAB>recipe line\n",
    "…\n",
    "```\n"
   ]
  },
  {
   "cell_type": "code",
   "execution_count": null,
   "id": "d38d24ed",
   "metadata": {
    "vscode": {
     "languageId": "plaintext"
    }
   },
   "outputs": [],
   "source": [
    "# Makefile for Python Project\n",
    "\n",
    ".PHONY: all clean\n",
    "\n",
    "all: setup test run\n",
    "\n",
    "setup:\n",
    "    @echo \"Setting up the Python environment...\"\n",
    "    pip install -r requirements.txt\n",
    "\n",
    "test:\n",
    "    @echo \"Running tests...\"\n",
    "    pytest\n",
    "\n",
    "run:\n",
    "    @echo \"Launching the magical Python application...\"\n",
    "    python main.py\n",
    "\n",
    "clean:\n",
    "    @echo \"Cleaning up...\"\n",
    "    rm -rf __pycache__ *.pyc"
   ]
  }
 ],
 "metadata": {
  "language_info": {
   "name": "python"
  }
 },
 "nbformat": 4,
 "nbformat_minor": 5
}
