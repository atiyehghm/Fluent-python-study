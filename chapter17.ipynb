{
 "cells": [
  {
   "cell_type": "markdown",
   "metadata": {},
   "source": [
    "## Iterables and Generators\n",
    "\n",
    "If our data doesn't fit in memory, we need to fetch  the items lazily- one at a time and on demand.\n",
    "\n",
    "Iterable is an object that provides iterator and iterator is used for  the following tasks:\n",
    "- For loops.\n",
    "- List, dict set comprehension.\n",
    "- Unpacking assignments.\n",
    "- Construction of collection instances.\n",
    "\n",
    "\n",
    "Whenever python wants to iterate over an object, it first looks for `__iter__` function then looks for `__getitem__` function and if neither is implemented then it raises a TypeError.\n",
    "\n"
   ]
  },
  {
   "cell_type": "markdown",
   "metadata": {},
   "source": [
    "#### Duck typing\n",
    ">\"If it looks like a duck, swims like a duck, and quacks like a duck, then it probably is a duck.\"\n",
    "\n",
    "\n",
    "In programming, duck typing means that the type or class of an object is determined by its behavior (methods and properties) rather than its explicit type or inheritance hierarchy.\n",
    "\n",
    "Duck typing is used in iterables meaning that if the object implements the `__getitem__` then it is iterable without having  `__iter__` function.\n"
   ]
  },
  {
   "cell_type": "markdown",
   "metadata": {},
   "source": [
    "#### Example 1\n",
    "\n",
    "the first takeaway is that iterable is the object that implements either of `__iter__` or `__getitem__`.\n"
   ]
  },
  {
   "cell_type": "code",
   "execution_count": 3,
   "metadata": {},
   "outputs": [
    {
     "name": "stdout",
     "output_type": "stream",
     "text": [
      "False\n",
      "True\n"
     ]
    }
   ],
   "source": [
    "from collections import abc\n",
    "\n",
    "class duck:\n",
    "    def __getitem__(self, i):\n",
    "        pass\n",
    "\n",
    "class goose:\n",
    "    def __iter__(self):\n",
    "        pass\n",
    "\n",
    "print(issubclass(duck, abc.Iterable))\n",
    "print(issubclass(goose, abc.Iterable))"
   ]
  },
  {
   "cell_type": "markdown",
   "metadata": {},
   "source": [
    "\n",
    "but still you can iterate both of them. --> duck typing!\n"
   ]
  },
  {
   "cell_type": "markdown",
   "metadata": {},
   "source": [
    "#### Example 2\n",
    "\n",
    "We use iter along with a callable and a sentinel which is the the value that stops the iteration.\n",
    "\n",
    "Key takeaway here is the iter function which can get another callable and a sentinel and return an Iterator"
   ]
  },
  {
   "cell_type": "code",
   "execution_count": 3,
   "metadata": {},
   "outputs": [
    {
     "name": "stdout",
     "output_type": "stream",
     "text": [
      "<callable_iterator object at 0x79b57963d690>\n",
      "Atiyeh\n",
      "Zahra\n",
      "Zahra\n",
      "Hasssan\n",
      "Zahra\n",
      "Leila\n",
      "Hasssan\n",
      "Maryam\n",
      "Atiyeh\n",
      "Hasssan\n",
      "Zahra\n",
      "Atiyeh\n",
      "Zahra\n",
      "Atiyeh\n",
      "Atiyeh\n",
      "Leila\n",
      "Atiyeh\n",
      "Leila\n",
      "Hasssan\n"
     ]
    }
   ],
   "source": [
    "import random\n",
    "\n",
    "def pick_a_name():\n",
    "    names = [\"Ali\", \"Atiyeh\", \"Hasssan\", \"Zahra\", \"Maryam\", \"Leila\", \"STOP\"]\n",
    "    index  = random.randint(0, len(names)-1)\n",
    "    return names[index]\n",
    "\n",
    "\n",
    "names_iter = iter(pick_a_name, \"STOP\")\n",
    "print(names_iter)\n",
    "for name in names_iter:\n",
    "    print(name)"
   ]
  },
  {
   "cell_type": "markdown",
   "metadata": {},
   "source": [
    "#### Example 3:\n",
    " point: Once the iterator is exhausted, you should define a new one.\n",
    "\n",
    " when we use `list()` it exhausts the iterator so then it gives the `StopIteration` and returns empty list"
   ]
  },
  {
   "cell_type": "code",
   "execution_count": 6,
   "metadata": {},
   "outputs": [
    {
     "name": "stdout",
     "output_type": "stream",
     "text": [
      "1\n",
      "2\n",
      "3\n",
      "4\n",
      "5\n",
      "[6, 7, 8]\n"
     ]
    }
   ],
   "source": [
    "\n",
    "l = [1, 2, 3, 4, 5, 6, 7, 8]\n",
    "it = iter(l)\n",
    "for _ in range(len(l)-3):\n",
    "    print(next(it))\n",
    "\n",
    "print(list(it))"
   ]
  },
  {
   "cell_type": "code",
   "execution_count": 8,
   "metadata": {},
   "outputs": [
    {
     "ename": "StopIteration",
     "evalue": "",
     "output_type": "error",
     "traceback": [
      "\u001b[31m---------------------------------------------------------------------------\u001b[39m",
      "\u001b[31mStopIteration\u001b[39m                             Traceback (most recent call last)",
      "\u001b[36mCell\u001b[39m\u001b[36m \u001b[39m\u001b[32mIn[8]\u001b[39m\u001b[32m, line 1\u001b[39m\n\u001b[32m----> \u001b[39m\u001b[32m1\u001b[39m \u001b[38;5;28mprint\u001b[39m(\u001b[38;5;28;43mnext\u001b[39;49m\u001b[43m(\u001b[49m\u001b[43mit\u001b[49m\u001b[43m)\u001b[49m)\n",
      "\u001b[31mStopIteration\u001b[39m: "
     ]
    }
   ],
   "source": [
    "print(next(it))"
   ]
  },
  {
   "cell_type": "markdown",
   "metadata": {},
   "source": [
    "iterables have an `__iter__` method that instantiates a new iterator everytime. Iterators implement a `__next__` method that returns individual items, and an `__iter__` method that returns self."
   ]
  },
  {
   "cell_type": "markdown",
   "metadata": {},
   "source": [
    "### Iterable vs. Iterator\n",
    "\n",
    "The difference of iterable and iterator:\n",
    "\n",
    "\n",
    "An **iterable** is any Python object capable of returning its elements one at a time.\n",
    "\n",
    "\n",
    "An **iterator** is an object that represents a stream of data. It implements the `__next__()` method to fetch the next item in the sequence and raises StopIteration when no more items are left.\n",
    "\n",
    "\n",
    "\n"
   ]
  },
  {
   "cell_type": "markdown",
   "metadata": {},
   "source": [
    "A lazy implementation of sentence class which yields items one by one and doesn't make a list of words.\n",
    "finall is an eager valuation of re expressions while finditer is a lazy one which yields the patterns at runtime."
   ]
  },
  {
   "cell_type": "code",
   "execution_count": 2,
   "metadata": {},
   "outputs": [],
   "source": [
    "import re \n",
    "import reprlib \n",
    "\n",
    "RE_word = re.compile(r'\\w+')\n",
    "\n",
    "class Sentence:\n",
    "    def __init__(self, text):\n",
    "        self.text = text\n",
    "\n",
    "    def __repr__(self) -> str:\n",
    "        return 'Sentence(%s)'%reprlib.repr(self.text)\n",
    "\n",
    "    def __iter__(self):\n",
    "        for match in RE_word.finditer(self.text):\n",
    "            yield match.group()"
   ]
  },
  {
   "cell_type": "markdown",
   "metadata": {},
   "source": [
    "so we have different ways to define a lazy generator and one is to use a `genexp` and the other is `generator functions`.\n",
    "\n",
    "\n",
    "`genexp` is a shortcut that without calling a function makes a generator. on the other hand, defining `generator functions` has more flexibility and can have complex logic and mulitple statements."
   ]
  },
  {
   "cell_type": "code",
   "execution_count": null,
   "metadata": {},
   "outputs": [],
   "source": [
    "import re \n",
    "import reprlib \n",
    "\n",
    "RE_word = re.compile(r'\\w+')\n",
    "\n",
    "class Sentence:\n",
    "    def __init__(self, text):\n",
    "        self.text = text\n",
    "\n",
    "    def __repr__(self) -> str:\n",
    "        return 'Sentence(%s)'%reprlib.repr(self.text)\n",
    "\n",
    "    def __iter__(self):\n",
    "        ## still a generator which returns the genexp\n",
    "        return (match.group() for match in RE_word.finditer(self.text))"
   ]
  },
  {
   "cell_type": "markdown",
   "metadata": {},
   "source": [
    "#### Difference of generator and iterator\n",
    "\n",
    "It seems that generator is a subclass of Iterator.\n",
    "\n",
    "\n",
    "|                    Iterator                     |                       Generator                          |\n",
    "|-------------------------------------------------|----------------------------------------------------------|\n",
    "|any object that implements `__next__` method.    | An iterator which is built by python compiler.           |\n",
    "|Designed to produce data that is consumed by client code. |                                                 |\n",
    "|Most iterators we use in python are generators.  |                                                          |\n",
    "|Created by defining a class having the `__next__` method.| Created either by a `yield` keyword or `genexp`s.|"
   ]
  },
  {
   "cell_type": "code",
   "execution_count": 6,
   "metadata": {},
   "outputs": [
    {
     "data": {
      "text/plain": [
       "(generator, generator)"
      ]
     },
     "execution_count": 6,
     "metadata": {},
     "output_type": "execute_result"
    }
   ],
   "source": [
    "def foo():\n",
    "    yield \"hello\"\n",
    "\n",
    "gen = (x for x in range(10))\n",
    "\n",
    "type(foo()), type(gen)"
   ]
  },
  {
   "cell_type": "markdown",
   "metadata": {},
   "source": [
    "#### Question1\n",
    "\n",
    "Implement a class SkipIterator that takes an iterable as input and skips every n-th item while iterating over it. You should:\n",
    "\n",
    "- Implement it first using an Iterator class.\n",
    "\n",
    "- Then implement the same functionality using a generator function."
   ]
  },
  {
   "cell_type": "code",
   "execution_count": 25,
   "metadata": {},
   "outputs": [],
   "source": [
    "class SkipIterator:\n",
    "    def __init__(self, iterable, n):\n",
    "        self.iterable = iterable\n",
    "        self.n = n\n",
    "        self.counter = -1\n",
    "\n",
    "    def __iter__(self):\n",
    "        return self\n",
    "\n",
    "    def __next__(self):\n",
    "        if self.counter >= len(self.iterable):\n",
    "            raise StopIteration\n",
    "        self.counter += 1\n",
    "        if (self.counter + 1) % self.n == 0:\n",
    "            self.counter += 1\n",
    "            if self.counter >= len(self.iterable):\n",
    "                raise StopIteration\n",
    "        return self.iterable[self.counter]"
   ]
  },
  {
   "cell_type": "code",
   "execution_count": 27,
   "metadata": {},
   "outputs": [],
   "source": [
    "## generator function\n",
    "def SkipIterator_func(iterable, n):\n",
    "    for i in range(len(iterable)):\n",
    "        if (i+1) % n == 0:\n",
    "            continue\n",
    "        yield iterable[i]"
   ]
  },
  {
   "cell_type": "code",
   "execution_count": 28,
   "metadata": {},
   "outputs": [
    {
     "name": "stdout",
     "output_type": "stream",
     "text": [
      "10\n",
      "20\n",
      "40\n",
      "50\n"
     ]
    }
   ],
   "source": [
    "s = SkipIterator([10, 20, 30, 40, 50, 60], 3)\n",
    "for item in s:\n",
    "    print(item)\n"
   ]
  },
  {
   "cell_type": "code",
   "execution_count": 29,
   "metadata": {},
   "outputs": [
    {
     "name": "stdout",
     "output_type": "stream",
     "text": [
      "10\n",
      "20\n",
      "40\n",
      "50\n"
     ]
    }
   ],
   "source": [
    "s = SkipIterator_func([10, 20, 30, 40, 50, 60], 3)\n",
    "for item in s:\n",
    "    print(item)"
   ]
  },
  {
   "cell_type": "markdown",
   "metadata": {},
   "source": [
    "#### Exmaples of ready-to-use generator functions\n",
    "\n",
    "when implementing generators, know what is available in the standard library, otherwise there’s a good chance you’ll reinvent the wheel\n"
   ]
  },
  {
   "cell_type": "code",
   "execution_count": 2,
   "metadata": {},
   "outputs": [
    {
     "data": {
      "text/plain": [
       "1"
      ]
     },
     "execution_count": 2,
     "metadata": {},
     "output_type": "execute_result"
    }
   ],
   "source": [
    "import itertools\n",
    "\n",
    "gen = itertools.count(1, .5)  ## returns a generator that yields numbers ##CAUTION:itertools.count never stops so dont call it with list\n",
    "\n",
    "next(gen)"
   ]
  },
  {
   "cell_type": "code",
   "execution_count": 24,
   "metadata": {},
   "outputs": [
    {
     "data": {
      "text/plain": [
       "[1, 3, 5, 7, 9]"
      ]
     },
     "execution_count": 24,
     "metadata": {},
     "output_type": "execute_result"
    }
   ],
   "source": [
    "gen = itertools.takewhile(lambda n: n<10, itertools.count(1, 2))\n",
    "list(gen)"
   ]
  },
  {
   "cell_type": "code",
   "execution_count": 14,
   "metadata": {},
   "outputs": [
    {
     "name": "stdout",
     "output_type": "stream",
     "text": [
      "['H', 'l', 'l', ' ', 'w', 'r', 'l', 'd']\n",
      "['e', 'o', 'o']\n"
     ]
    }
   ],
   "source": [
    "def vowel(c):\n",
    "    return c.lower() in 'aioue'\n",
    "\n",
    "# print(list(itertools.filterfalse(vowel, \"hello world\")))\n",
    "print(list(itertools.filterfalse(vowel, \"Hello world\")))\n",
    "print(list(filter(vowel, 'Hello world')))"
   ]
  },
  {
   "cell_type": "markdown",
   "metadata": {},
   "source": [
    "for takewhile and dropwhile the difference is that it iters until the first true predicate. it doesnt work like a filter it stops when the condition is True."
   ]
  },
  {
   "cell_type": "code",
   "execution_count": 20,
   "metadata": {},
   "outputs": [
    {
     "name": "stdout",
     "output_type": "stream",
     "text": [
      "['a', 'i', 'o', 'u', 'e']\n",
      "[]\n"
     ]
    }
   ],
   "source": [
    "print(list(itertools.takewhile(vowel, 'aiouehello world')))\n",
    "print(list(itertools.takewhile(vowel, 'hello world')))"
   ]
  },
  {
   "cell_type": "code",
   "execution_count": 21,
   "metadata": {},
   "outputs": [
    {
     "name": "stdout",
     "output_type": "stream",
     "text": [
      "['h', 'e', 'l', 'l', 'o', ' ', 'w', 'o', 'r', 'l', 'd']\n",
      "['h', 'e', 'l', 'l', 'o', ' ', 'w', 'o', 'r', 'l', 'd']\n"
     ]
    }
   ],
   "source": [
    "print(list(itertools.dropwhile(vowel, 'aiouehello world')))\n",
    "print(list(itertools.dropwhile(vowel, 'hello world')))"
   ]
  },
  {
   "cell_type": "code",
   "execution_count": 25,
   "metadata": {},
   "outputs": [
    {
     "name": "stdout",
     "output_type": "stream",
     "text": [
      "['h', 'l', 'l']\n"
     ]
    }
   ],
   "source": [
    "print(list(itertools.compress(\"hello\", [1,0,1,1,0])))"
   ]
  },
  {
   "cell_type": "code",
   "execution_count": 30,
   "metadata": {},
   "outputs": [
    {
     "name": "stdout",
     "output_type": "stream",
     "text": [
      "[1, 3, 6, 10, 15, 21, 28, 36, 45, 55]\n"
     ]
    }
   ],
   "source": [
    "sample = [1,2,3,4,5,6,7,8,9,10]\n",
    "\n",
    "print(list(itertools.accumulate(sample)))"
   ]
  },
  {
   "cell_type": "code",
   "execution_count": 34,
   "metadata": {},
   "outputs": [
    {
     "data": {
      "text/plain": [
       "[1, 2, 3, 4, 5, 6, 7, 8, 9, 10]"
      ]
     },
     "execution_count": 34,
     "metadata": {},
     "output_type": "execute_result"
    }
   ],
   "source": [
    "list(itertools.accumulate(sample, min))\n",
    "\n",
    "list(itertools.accumulate(sample, max))"
   ]
  },
  {
   "cell_type": "code",
   "execution_count": 35,
   "metadata": {},
   "outputs": [
    {
     "data": {
      "text/plain": [
       "['a', 'bb', 'ccc']"
      ]
     },
     "execution_count": 35,
     "metadata": {},
     "output_type": "execute_result"
    }
   ],
   "source": [
    "import operator\n",
    "sample2 = [('a', 1), ('b', 2), ('c', 3)]\n",
    "\n",
    "list(itertools.starmap(operator.mul, sample2))"
   ]
  },
  {
   "cell_type": "code",
   "execution_count": 37,
   "metadata": {},
   "outputs": [
    {
     "data": {
      "text/plain": [
       "[(36, 32), (42, 45), (23, 67)]"
      ]
     },
     "execution_count": 37,
     "metadata": {},
     "output_type": "execute_result"
    }
   ],
   "source": [
    "coords = list(map(lambda x, y: (x,y), [36, 42, 23], [32, 45, 67]))\n",
    "coords"
   ]
  },
  {
   "cell_type": "code",
   "execution_count": 38,
   "metadata": {},
   "outputs": [
    {
     "data": {
      "text/plain": [
       "[(1, 'H'),\n",
       " (2, 'e'),\n",
       " (3, 'l'),\n",
       " (4, 'l'),\n",
       " (5, 'o'),\n",
       " (6, ' '),\n",
       " (7, 'w'),\n",
       " (8, 'o'),\n",
       " (9, 'r'),\n",
       " (10, 'l'),\n",
       " (11, 'd')]"
      ]
     },
     "execution_count": 38,
     "metadata": {},
     "output_type": "execute_result"
    }
   ],
   "source": [
    "text = 'Hello world'\n",
    "\n",
    "list(enumerate(text, start=1))"
   ]
  },
  {
   "cell_type": "code",
   "execution_count": 39,
   "metadata": {},
   "outputs": [
    {
     "data": {
      "text/plain": [
       "['A', 'B', 'C', 0, 1, 2, 3, 4, 5, 6, 7, 8, 9]"
      ]
     },
     "execution_count": 39,
     "metadata": {},
     "output_type": "execute_result"
    }
   ],
   "source": [
    "## concatenates the two iterables\n",
    "list(itertools.chain(\"ABC\", range(10)))"
   ]
  },
  {
   "cell_type": "code",
   "execution_count": 40,
   "metadata": {},
   "outputs": [
    {
     "data": {
      "text/plain": [
       "[('A', 10), ('B', 20), ('C', 30), ('_', 40), ('_', 50)]"
      ]
     },
     "execution_count": 40,
     "metadata": {},
     "output_type": "execute_result"
    }
   ],
   "source": [
    "list(itertools.zip_longest('ABC',[10, 20, 30 , 40, 50], fillvalue='_'))"
   ]
  },
  {
   "cell_type": "code",
   "execution_count": 41,
   "metadata": {},
   "outputs": [
    {
     "data": {
      "text/plain": [
       "[('A', 1),\n",
       " ('A', 2),\n",
       " ('A', 3),\n",
       " ('B', 1),\n",
       " ('B', 2),\n",
       " ('B', 3),\n",
       " ('C', 1),\n",
       " ('C', 2),\n",
       " ('C', 3)]"
      ]
     },
     "execution_count": 41,
     "metadata": {},
     "output_type": "execute_result"
    }
   ],
   "source": [
    "list(itertools.product('ABC', [1, 2, 3]))"
   ]
  },
  {
   "cell_type": "code",
   "execution_count": 42,
   "metadata": {},
   "outputs": [
    {
     "data": {
      "text/plain": [
       "[(0, 0, 0),\n",
       " (0, 0, 1),\n",
       " (0, 1, 0),\n",
       " (0, 1, 1),\n",
       " (1, 0, 0),\n",
       " (1, 0, 1),\n",
       " (1, 1, 0),\n",
       " (1, 1, 1)]"
      ]
     },
     "execution_count": 42,
     "metadata": {},
     "output_type": "execute_result"
    }
   ],
   "source": [
    "list(itertools.product(range(2), repeat=3))"
   ]
  },
  {
   "cell_type": "code",
   "execution_count": 44,
   "metadata": {},
   "outputs": [
    {
     "name": "stdout",
     "output_type": "stream",
     "text": [
      "3  ->  ['ali']\n",
      "5  ->  ['zahra']\n",
      "6  ->  ['maryam', 'atiyeh', 'hassan']\n",
      "4  ->  ['reza']\n",
      "7  ->  ['mojtaba']\n"
     ]
    }
   ],
   "source": [
    "names = ['ali', 'zahra', 'maryam', 'atiyeh', 'hassan', 'reza', 'mojtaba']\n",
    "\n",
    "for length, group in itertools.groupby(names, len):\n",
    "    print(length, \" -> \", list(group))"
   ]
  },
  {
   "cell_type": "code",
   "execution_count": 46,
   "metadata": {},
   "outputs": [
    {
     "data": {
      "text/plain": [
       "<list_reverseiterator at 0x7b85d75235b0>"
      ]
     },
     "execution_count": 46,
     "metadata": {},
     "output_type": "execute_result"
    }
   ],
   "source": [
    "## it is also a generator\n",
    "reversed(sample)"
   ]
  },
  {
   "cell_type": "markdown",
   "metadata": {},
   "source": [
    "#### `yield from`\n",
    "\n",
    "used when a generator needs to yield values from another generator.\n",
    "\n",
    "Note that yield from pauses gen, and sub_gen takes over until it is exhausted."
   ]
  },
  {
   "cell_type": "markdown",
   "metadata": {},
   "source": [
    "| **`return`**                              | **`yield`**                                                           |\n",
    "| ----------------------------------------- | --------------------------------------------------------------------- |\n",
    "| **Ends** the function completely.         | **Pauses** the function, saving its state.                            |\n",
    "| Returns a **single value** to the caller. | Returns a **generator object** that can produce a sequence of values. |\n",
    "| Cannot resume from where it left.         | Can **resume execution from where it paused** on the next iteration.  |\n",
    "| Used in **normal functions**.             | Used in **generator functions**.                                      |\n",
    "| Example:                                  |                                                                       |\n"
   ]
  },
  {
   "cell_type": "code",
   "execution_count": 48,
   "metadata": {},
   "outputs": [
    {
     "name": "stdout",
     "output_type": "stream",
     "text": [
      "1\n",
      "1.1\n",
      "1.2\n",
      "2\n"
     ]
    }
   ],
   "source": [
    "def sub_gen():\n",
    "    yield 1.1\n",
    "    yield 1.2\n",
    "\n",
    "def gen():\n",
    "    yield 1\n",
    "    yield from sub_gen()\n",
    "    yield 2\n",
    "\n",
    "\n",
    "for i in gen():\n",
    "    print(i)"
   ]
  },
  {
   "cell_type": "code",
   "execution_count": 49,
   "metadata": {},
   "outputs": [
    {
     "data": {
      "text/plain": [
       "['A', 'B', 'C', 0, 1, 2]"
      ]
     },
     "execution_count": 49,
     "metadata": {},
     "output_type": "execute_result"
    }
   ],
   "source": [
    "def chain(*iterables):\n",
    "    for it in iterables:\n",
    "        yield from it\n",
    "\n",
    "\n",
    "s = 'ABC'\n",
    "r = range(3)\n",
    "\n",
    "list(chain(s, r))"
   ]
  },
  {
   "cell_type": "code",
   "execution_count": 55,
   "metadata": {},
   "outputs": [
    {
     "name": "stdout",
     "output_type": "stream",
     "text": [
      "BaseException\n",
      "    BaseExceptionGroup\n",
      "        ExceptionGroup\n",
      "    Exception\n",
      "        ArithmeticError\n",
      "            FloatingPointError\n",
      "            OverflowError\n",
      "            ZeroDivisionError\n",
      "                DivisionByZero\n",
      "                DivisionUndefined\n",
      "            DecimalException\n",
      "                Clamped\n",
      "                Rounded\n",
      "                    Underflow\n",
      "                    Overflow\n",
      "                Inexact\n",
      "                    Underflow\n",
      "                    Overflow\n",
      "                Subnormal\n",
      "                    Underflow\n",
      "                DivisionByZero\n",
      "                FloatOperation\n",
      "                InvalidOperation\n",
      "                    ConversionSyntax\n",
      "                    DivisionImpossible\n",
      "                    DivisionUndefined\n",
      "                    InvalidContext\n",
      "        AssertionError\n",
      "        AttributeError\n",
      "            FrozenInstanceError\n",
      "        BufferError\n",
      "        EOFError\n",
      "            IncompleteReadError\n",
      "        ImportError\n",
      "            ModuleNotFoundError\n",
      "                PackageNotFoundError\n",
      "            ZipImportError\n",
      "        LookupError\n",
      "            IndexError\n",
      "            KeyError\n",
      "                NoSuchKernel\n",
      "                UnknownBackend\n",
      "            CodecRegistryError\n",
      "        MemoryError\n",
      "        NameError\n",
      "            UnboundLocalError\n",
      "        OSError\n",
      "            BlockingIOError\n",
      "            ChildProcessError\n",
      "            ConnectionError\n",
      "                BrokenPipeError\n",
      "                ConnectionAbortedError\n",
      "                ConnectionRefusedError\n",
      "                ConnectionResetError\n",
      "                    RemoteDisconnected\n",
      "            FileExistsError\n",
      "            FileNotFoundError\n",
      "            InterruptedError\n",
      "                InterruptedSystemCall\n",
      "            IsADirectoryError\n",
      "            NotADirectoryError\n",
      "            PermissionError\n",
      "            ProcessLookupError\n",
      "            TimeoutError\n",
      "            UnsupportedOperation\n",
      "            itimer_error\n",
      "            herror\n",
      "            gaierror\n",
      "            SSLError\n",
      "                SSLCertVerificationError\n",
      "                SSLZeroReturnError\n",
      "                SSLWantWriteError\n",
      "                SSLWantReadError\n",
      "                SSLSyscallError\n",
      "                SSLEOFError\n",
      "            Error\n",
      "                SameFileError\n",
      "            SpecialFileError\n",
      "            ExecError\n",
      "            ReadError\n",
      "            URLError\n",
      "                HTTPError\n",
      "                ContentTooShortError\n",
      "            BadGzipFile\n",
      "        ReferenceError\n",
      "        RuntimeError\n",
      "            NotImplementedError\n",
      "                ZMQVersionError\n",
      "                StdinNotImplementedError\n",
      "            RecursionError\n",
      "            _DeadlockError\n",
      "            BrokenBarrierError\n",
      "            BrokenExecutor\n",
      "                BrokenThreadPool\n",
      "            SendfileNotAvailableError\n",
      "            BrokenBarrierError\n",
      "            VariableError\n",
      "        StopAsyncIteration\n",
      "        StopIteration\n",
      "        SyntaxError\n",
      "            IndentationError\n",
      "                TabError\n",
      "        SystemError\n",
      "            CodecRegistryError\n",
      "        TypeError\n",
      "            FloatOperation\n",
      "            MultipartConversionError\n",
      "        ValueError\n",
      "            UnicodeError\n",
      "                UnicodeDecodeError\n",
      "                UnicodeEncodeError\n",
      "                UnicodeTranslateError\n",
      "            UnsupportedOperation\n",
      "            AddressValueError\n",
      "            NetmaskValueError\n",
      "            JSONDecodeError\n",
      "            SSLCertVerificationError\n",
      "            Error\n",
      "            UnsupportedDigestmodError\n",
      "            IllegalMonthError\n",
      "            IllegalWeekdayError\n",
      "            ParserError\n",
      "            MessageDefect\n",
      "                NoBoundaryInMultipartDefect\n",
      "                StartBoundaryNotFoundDefect\n",
      "                CloseBoundaryNotFoundDefect\n",
      "                FirstHeaderLineIsContinuationDefect\n",
      "                MisplacedEnvelopeHeaderDefect\n",
      "                MissingHeaderBodySeparatorDefect\n",
      "                MultipartInvariantViolationDefect\n",
      "                InvalidMultipartContentTransferEncodingDefect\n",
      "                UndecodableBytesDefect\n",
      "                InvalidBase64PaddingDefect\n",
      "                InvalidBase64CharactersDefect\n",
      "                InvalidBase64LengthDefect\n",
      "                HeaderDefect\n",
      "                    InvalidHeaderDefect\n",
      "                    HeaderMissingRequiredValue\n",
      "                    NonPrintableDefect\n",
      "                    ObsoleteHeaderDefect\n",
      "                    NonASCIILocalPartDefect\n",
      "                    InvalidDateDefect\n",
      "            ClassNotFound\n",
      "            ClipboardEmpty\n",
      "            MacroToEdit\n",
      "            InvalidVersion\n",
      "        Warning\n",
      "            BytesWarning\n",
      "            DeprecationWarning\n",
      "                ProvisionalWarning\n",
      "            EncodingWarning\n",
      "            FutureWarning\n",
      "                ProvisionalCompleterWarning\n",
      "            ImportWarning\n",
      "            PendingDeprecationWarning\n",
      "            ResourceWarning\n",
      "            RuntimeWarning\n",
      "                DraftFDWarning\n",
      "                ProactorSelectorThreadWarning\n",
      "                UnknownTimezoneWarning\n",
      "            SyntaxWarning\n",
      "            UnicodeWarning\n",
      "            UserWarning\n",
      "                GetPassWarning\n",
      "                FormatterWarning\n",
      "            DeprecatedTzFormatWarning\n",
      "        ExceptionGroup\n",
      "        _OptionError\n",
      "        _Error\n",
      "        error\n",
      "        Error\n",
      "        SubprocessError\n",
      "            CalledProcessError\n",
      "            TimeoutExpired\n",
      "        TokenError\n",
      "        StopTokenizing\n",
      "        ClassFoundException\n",
      "        EndOfBlock\n",
      "        ZMQBaseError\n",
      "            ZMQError\n",
      "                ContextTerminated\n",
      "                Again\n",
      "                InterruptedSystemCall\n",
      "            ZMQBindError\n",
      "            NotDone\n",
      "        error\n",
      "        PickleError\n",
      "            PicklingError\n",
      "            UnpicklingError\n",
      "        _Stop\n",
      "        Error\n",
      "            CancelledError\n",
      "            InvalidStateError\n",
      "        _GiveupOnSendfile\n",
      "        Incomplete\n",
      "        InvalidStateError\n",
      "        LimitOverrunError\n",
      "        QueueEmpty\n",
      "        QueueFull\n",
      "        TraitError\n",
      "        Error\n",
      "        Empty\n",
      "        Full\n",
      "        error\n",
      "        error\n",
      "        ReturnValueIgnoredError\n",
      "        ArgumentError\n",
      "        ArgumentTypeError\n",
      "        ConfigError\n",
      "            ConfigLoaderError\n",
      "                ArgumentError\n",
      "            ConfigFileNotFound\n",
      "        ConfigurableError\n",
      "            MultipleInstanceError\n",
      "        ApplicationError\n",
      "        InvalidPortNumber\n",
      "        error\n",
      "        LZMAError\n",
      "        RegistryError\n",
      "        _GiveupOnFastCopy\n",
      "        Error\n",
      "            NoSectionError\n",
      "            DuplicateSectionError\n",
      "            DuplicateOptionError\n",
      "            NoOptionError\n",
      "            InterpolationError\n",
      "                InterpolationMissingOptionError\n",
      "                InterpolationSyntaxError\n",
      "                InterpolationDepthError\n",
      "            ParsingError\n",
      "                MissingSectionHeaderError\n",
      "        NoIPAddresses\n",
      "        Error\n",
      "        BadZipFile\n",
      "        LargeZipFile\n",
      "        MessageError\n",
      "            MessageParseError\n",
      "                HeaderParseError\n",
      "                BoundaryError\n",
      "            MultipartConversionError\n",
      "            CharsetError\n",
      "            HeaderWriteError\n",
      "        TraversalError\n",
      "        DuplicateKernelError\n",
      "        NotOneValueFound\n",
      "        KnownIssue\n",
      "        VerifierFailure\n",
      "        CannotEval\n",
      "        OptionError\n",
      "        FindCmdError\n",
      "        HomeDirError\n",
      "        ErrorDuringImport\n",
      "        BdbQuit\n",
      "        Restart\n",
      "        ProfileDirError\n",
      "        IPythonCoreError\n",
      "            TryNext\n",
      "            UsageError\n",
      "            StdinNotImplementedError\n",
      "        InputRejected\n",
      "        GetoptError\n",
      "        ErrorToken\n",
      "        PrefilterError\n",
      "        AliasError\n",
      "            InvalidAliasError\n",
      "        Error\n",
      "            InterfaceError\n",
      "            DatabaseError\n",
      "                InternalError\n",
      "                OperationalError\n",
      "                ProgrammingError\n",
      "                IntegrityError\n",
      "                DataError\n",
      "                NotSupportedError\n",
      "        Warning\n",
      "        SpaceInInput\n",
      "        DOMException\n",
      "            IndexSizeErr\n",
      "            DomstringSizeErr\n",
      "            HierarchyRequestErr\n",
      "            WrongDocumentErr\n",
      "            InvalidCharacterErr\n",
      "            NoDataAllowedErr\n",
      "            NoModificationAllowedErr\n",
      "            NotFoundErr\n",
      "            NotSupportedErr\n",
      "            InuseAttributeErr\n",
      "            InvalidStateErr\n",
      "            SyntaxErr\n",
      "            InvalidModificationErr\n",
      "            NamespaceErr\n",
      "            InvalidAccessErr\n",
      "            ValidationErr\n",
      "        ValidationError\n",
      "        EditReadOnlyBuffer\n",
      "        _Retry\n",
      "        InvalidLayoutError\n",
      "        HeightIsUnknownError\n",
      "        ExpatError\n",
      "        ParseEscape\n",
      "        GuardRejection\n",
      "        ParserSyntaxError\n",
      "        InternalParseError\n",
      "        _PositionUpdatingFinished\n",
      "        SimpleGetItemNotFound\n",
      "        UncaughtAttributeError\n",
      "        HasNoContext\n",
      "        ParamIssue\n",
      "        _JediError\n",
      "            InternalError\n",
      "            WrongVersion\n",
      "            RefactoringError\n",
      "        OnErrorLeaf\n",
      "        InvalidPythonEnvironment\n",
      "        HTTPException\n",
      "            NotConnected\n",
      "            InvalidURL\n",
      "            UnknownProtocol\n",
      "            UnknownTransferEncoding\n",
      "            UnimplementedFileMode\n",
      "            IncompleteRead\n",
      "            ImproperConnectionState\n",
      "                CannotSendRequest\n",
      "                CannotSendHeader\n",
      "                ResponseNotReady\n",
      "            BadStatusLine\n",
      "                RemoteDisconnected\n",
      "            LineTooLong\n",
      "        InteractivelyDefined\n",
      "        RaiseAfterInterrupt\n",
      "        KillEmbedded\n",
      "        Error\n",
      "            NoSuchProcess\n",
      "                ZombieProcess\n",
      "            AccessDenied\n",
      "            TimeoutExpired\n",
      "        _Ipv6UnsupportedError\n",
      "        KeyReuseError\n",
      "        UnknownKeyError\n",
      "        LeakedCallbackError\n",
      "        BadYieldError\n",
      "        ReturnValueIgnoredError\n",
      "        Return\n",
      "        QueueEmpty\n",
      "        QueueFull\n",
      "        ArgumentError\n",
      "        DebuggerInitializationError\n",
      "        Error\n",
      "            ProtocolError\n",
      "            ResponseError\n",
      "            Fault\n",
      "        _Error\n",
      "        UnableToResolveVariableException\n",
      "        InvalidTypeInArgsException\n",
      "    GeneratorExit\n",
      "    KeyboardInterrupt\n",
      "    SystemExit\n",
      "    CancelledError\n"
     ]
    }
   ],
   "source": [
    "def tree(cls, level=0):\n",
    "    yield cls.__name__, level\n",
    "    for sub_class in cls.__subclasses__():\n",
    "        yield from tree(sub_class, level+1)\n",
    "\n",
    "def display(cls):\n",
    "    for cls_name, level  in tree(cls):\n",
    "        indent = ' '* 4 * level\n",
    "        print(f'{indent}{cls_name}')\n",
    "\n",
    "\n",
    "if __name__=='__main__':\n",
    "    display(BaseException)"
   ]
  },
  {
   "cell_type": "markdown",
   "metadata": {},
   "source": [
    "#### Classic Coroutines\n",
    "\n",
    "Coroutine -> a routine or function that can be stopped at some point and start again.\n",
    "\n",
    "generators are commonly used as iterators, but they can be used as coroutines.\n",
    "\n",
    "- Generators **produce** data for iteration.\n",
    "- Coroutines are **consumers** of data.\n",
    "- Coroutines are not related to iterators."
   ]
  },
  {
   "cell_type": "code",
   "execution_count": 59,
   "metadata": {},
   "outputs": [
    {
     "name": "stdout",
     "output_type": "stream",
     "text": [
      "Recieved: hello\n"
     ]
    },
    {
     "ename": "StopIteration",
     "evalue": "",
     "output_type": "error",
     "traceback": [
      "\u001b[31m---------------------------------------------------------------------------\u001b[39m",
      "\u001b[31mStopIteration\u001b[39m                             Traceback (most recent call last)",
      "\u001b[36mCell\u001b[39m\u001b[36m \u001b[39m\u001b[32mIn[59]\u001b[39m\u001b[32m, line 7\u001b[39m\n\u001b[32m      5\u001b[39m f = foo()\n\u001b[32m      6\u001b[39m \u001b[38;5;28mnext\u001b[39m(f)\n\u001b[32m----> \u001b[39m\u001b[32m7\u001b[39m \u001b[43mf\u001b[49m\u001b[43m.\u001b[49m\u001b[43msend\u001b[49m\u001b[43m(\u001b[49m\u001b[33;43m'\u001b[39;49m\u001b[33;43mhello\u001b[39;49m\u001b[33;43m'\u001b[39;49m\u001b[43m)\u001b[49m\n",
      "\u001b[31mStopIteration\u001b[39m: "
     ]
    }
   ],
   "source": [
    "def foo():\n",
    "    x = yield \n",
    "    print(\"Recieved:\", x)\n",
    "\n",
    "f = foo()\n",
    "next(f)\n",
    "f.send('hello')"
   ]
  },
  {
   "cell_type": "code",
   "execution_count": 69,
   "metadata": {},
   "outputs": [
    {
     "data": {
      "text/plain": [
       "0.0"
      ]
     },
     "execution_count": 69,
     "metadata": {},
     "output_type": "execute_result"
    }
   ],
   "source": [
    "from collections.abc import Generator\n",
    "\n",
    "def averager() -> Generator[float, float, None]:\n",
    "    total = 0.0\n",
    "    count = 0.0\n",
    "    average = 0.0\n",
    "    while True:\n",
    "        term = yield average\n",
    "        total += term\n",
    "        count += 1\n",
    "        average = total/count\n",
    "\n",
    "coro_avg = averager()\n",
    "coro_avg.send(None) ## or next(coro_avg)\n"
   ]
  },
  {
   "cell_type": "code",
   "execution_count": 70,
   "metadata": {},
   "outputs": [
    {
     "data": {
      "text/plain": [
       "30.0"
      ]
     },
     "execution_count": 70,
     "metadata": {},
     "output_type": "execute_result"
    }
   ],
   "source": [
    "coro_avg.send(30)"
   ]
  },
  {
   "cell_type": "code",
   "execution_count": 71,
   "metadata": {},
   "outputs": [
    {
     "data": {
      "text/plain": [
       "35.0"
      ]
     },
     "execution_count": 71,
     "metadata": {},
     "output_type": "execute_result"
    }
   ],
   "source": [
    "coro_avg.send(40)"
   ]
  },
  {
   "cell_type": "code",
   "execution_count": 72,
   "metadata": {},
   "outputs": [],
   "source": [
    "## Returning a value from a coroutine\n",
    "\n",
    "from collections.abc import Generator\n",
    "from typing import Union, NamedTuple\n",
    "\n",
    "class Result(NamedTuple):\n",
    "    count : int\n",
    "    average: float\n",
    "\n",
    "class Sentinel:\n",
    "    def __repr__(self):\n",
    "        return f'<Sentinel>'\n",
    "    \n",
    "STOP = Sentinel()\n",
    "\n",
    "\n",
    "def averager2(verbose:bool = False) -> Generator[None, float | Sentinel, Result]:\n",
    "    total = 0.0\n",
    "    count = 0.0\n",
    "    average = 0.0\n",
    "    while True:\n",
    "        term = yield\n",
    "        if verbose:\n",
    "            print('Recieved: ', term)\n",
    "        if isinstance(term, Sentinel):\n",
    "            break\n",
    "        total += term\n",
    "        count += 1\n",
    "        average = total/count\n",
    "    return Result(count, average)"
   ]
  },
  {
   "cell_type": "code",
   "execution_count": 75,
   "metadata": {},
   "outputs": [
    {
     "name": "stdout",
     "output_type": "stream",
     "text": [
      "Result(count=3.0, average=15.5)\n"
     ]
    }
   ],
   "source": [
    "avg = averager2()\n",
    "next(avg)\n",
    "avg.send(10)\n",
    "avg.send(30)\n",
    "avg.send(6.5)\n",
    "try:\n",
    "    avg.send(STOP)\n",
    "    ## the StopIteration instance has a value attribute bound to the value of return\n",
    "except StopIteration as exc:\n",
    "    result = exc.value\n",
    "\n",
    "print(result)"
   ]
  },
  {
   "cell_type": "markdown",
   "metadata": {},
   "source": [
    "## Homeworks\n",
    "\n",
    "Create a generator that generates the squares of numbers up to some number N."
   ]
  },
  {
   "cell_type": "code",
   "execution_count": 76,
   "metadata": {},
   "outputs": [],
   "source": [
    "def gen(N):\n",
    "    for i in range(N):\n",
    "        yield i**2"
   ]
  },
  {
   "cell_type": "code",
   "execution_count": 6,
   "metadata": {},
   "outputs": [],
   "source": [
    "def classic_coroutine():\n",
    "    value = yield \"Ready to receive\"\n",
    "    print(value)\n",
    "    while True:\n",
    "        print(f\"Received: {value}\")\n",
    "        value = yield f\"Processed {value}\"\n",
    "        print(value)"
   ]
  },
  {
   "cell_type": "code",
   "execution_count": 7,
   "metadata": {},
   "outputs": [
    {
     "name": "stdout",
     "output_type": "stream",
     "text": [
      "Ready to receive\n"
     ]
    }
   ],
   "source": [
    "coro = classic_coroutine()\n",
    "print(next(coro))"
   ]
  },
  {
   "cell_type": "code",
   "execution_count": 8,
   "metadata": {},
   "outputs": [
    {
     "name": "stdout",
     "output_type": "stream",
     "text": [
      "42\n",
      "Received: 42\n"
     ]
    },
    {
     "data": {
      "text/plain": [
       "'Processed 42'"
      ]
     },
     "execution_count": 8,
     "metadata": {},
     "output_type": "execute_result"
    }
   ],
   "source": [
    "coro.send(42)"
   ]
  },
  {
   "cell_type": "code",
   "execution_count": 5,
   "metadata": {},
   "outputs": [
    {
     "name": "stdout",
     "output_type": "stream",
     "text": [
      "Received: 10\n"
     ]
    },
    {
     "data": {
      "text/plain": [
       "'Processed 10'"
      ]
     },
     "execution_count": 5,
     "metadata": {},
     "output_type": "execute_result"
    }
   ],
   "source": [
    "coro.send(10)"
   ]
  },
  {
   "cell_type": "code",
   "execution_count": 12,
   "metadata": {},
   "outputs": [
    {
     "name": "stdout",
     "output_type": "stream",
     "text": [
      "1\n",
      "---------\n",
      "1 is Done\n",
      "2\n",
      "---------\n",
      "2 is Done\n"
     ]
    },
    {
     "ename": "StopIteration",
     "evalue": "3",
     "output_type": "error",
     "traceback": [
      "\u001b[31m---------------------------------------------------------------------------\u001b[39m",
      "\u001b[31mStopIteration\u001b[39m                             Traceback (most recent call last)",
      "\u001b[36mCell\u001b[39m\u001b[36m \u001b[39m\u001b[32mIn[12]\u001b[39m\u001b[32m, line 13\u001b[39m\n\u001b[32m     11\u001b[39m \u001b[38;5;28mprint\u001b[39m(\u001b[38;5;28mnext\u001b[39m(g))\n\u001b[32m     12\u001b[39m \u001b[38;5;28mprint\u001b[39m(\u001b[33m\"\u001b[39m\u001b[33m---------\u001b[39m\u001b[33m\"\u001b[39m)\n\u001b[32m---> \u001b[39m\u001b[32m13\u001b[39m \u001b[38;5;28mprint\u001b[39m(\u001b[38;5;28;43mnext\u001b[39;49m\u001b[43m(\u001b[49m\u001b[43mg\u001b[49m\u001b[43m)\u001b[49m)\n\u001b[32m     14\u001b[39m \u001b[38;5;28mprint\u001b[39m(\u001b[33m\"\u001b[39m\u001b[33m---------\u001b[39m\u001b[33m\"\u001b[39m)\n",
      "\u001b[31mStopIteration\u001b[39m: 3"
     ]
    }
   ],
   "source": [
    "def test():\n",
    "    yield 1\n",
    "    print(\"1 is Done\")\n",
    "    yield 2\n",
    "    print(\"2 is Done\")\n",
    "    return 3\n",
    "\n",
    "g = test()\n",
    "print(next(g))\n",
    "print(\"---------\")\n",
    "print(next(g))\n",
    "print(\"---------\")\n",
    "print(next(g))\n",
    "print(\"---------\")\n"
   ]
  },
  {
   "cell_type": "code",
   "execution_count": 15,
   "metadata": {},
   "outputs": [
    {
     "ename": "StopIteration",
     "evalue": "",
     "output_type": "error",
     "traceback": [
      "\u001b[31m---------------------------------------------------------------------------\u001b[39m",
      "\u001b[31mStopIteration\u001b[39m                             Traceback (most recent call last)",
      "\u001b[36mCell\u001b[39m\u001b[36m \u001b[39m\u001b[32mIn[15]\u001b[39m\u001b[32m, line 1\u001b[39m\n\u001b[32m----> \u001b[39m\u001b[32m1\u001b[39m \u001b[38;5;28;43mnext\u001b[39;49m\u001b[43m(\u001b[49m\u001b[43mg\u001b[49m\u001b[43m)\u001b[49m\n\u001b[32m      2\u001b[39m g = test()\n",
      "\u001b[31mStopIteration\u001b[39m: "
     ]
    }
   ],
   "source": []
  },
  {
   "cell_type": "code",
   "execution_count": null,
   "metadata": {},
   "outputs": [],
   "source": []
  }
 ],
 "metadata": {
  "kernelspec": {
   "display_name": ".venv",
   "language": "python",
   "name": "python3"
  },
  "language_info": {
   "codemirror_mode": {
    "name": "ipython",
    "version": 3
   },
   "file_extension": ".py",
   "mimetype": "text/x-python",
   "name": "python",
   "nbconvert_exporter": "python",
   "pygments_lexer": "ipython3",
   "version": "3.12.3"
  }
 },
 "nbformat": 4,
 "nbformat_minor": 2
}
