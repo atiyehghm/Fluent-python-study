{
 "cells": [
  {
   "cell_type": "markdown",
   "metadata": {},
   "source": [
    "### With statement"
   ]
  },
  {
   "cell_type": "markdown",
   "metadata": {},
   "source": [
    "Context Manager objects are designed to handle a `with` statement. \n",
    "\n",
    "Context managers in Python are constructs that allow you to set up and clean up resources precisely and safely.They can be used for handling databases, locks in concurrent programming or any other resource.\n",
    "\n",
    "Context manager object should implement `__enter__()` and `__exit__()` functions. at the end of with block the exit function is called. "
   ]
  },
  {
   "cell_type": "code",
   "execution_count": 2,
   "metadata": {},
   "outputs": [],
   "source": [
    "import sys\n",
    "\n",
    "class LookingGlass:\n",
    "    def __enter__(self):\n",
    "        self.original_write = sys.stdout.write\n",
    "        sys.stdout.write = self.reverse_write\n",
    "        return \"JABBERWOCKY\"\n",
    "    \n",
    "    def reverse_write(self, text):\n",
    "        self.original_write(text[::-1])\n",
    "\n",
    "    def __exit__(self, exc_type, exc_value, traceback):\n",
    "        sys.stdout.write = self.original_write\n",
    "        if exc_type is ZeroDivisionError:\n",
    "            print(\"please do not divide by zero!\")\n",
    "            return True"
   ]
  },
  {
   "cell_type": "code",
   "execution_count": 4,
   "metadata": {},
   "outputs": [
    {
     "name": "stdout",
     "output_type": "stream",
     "text": [
      "!dlroW olleH\n",
      "This is normal!\n",
      "JABBERWOCKY\n"
     ]
    }
   ],
   "source": [
    "with LookingGlass() as mi:\n",
    "    print('Hello World!')\n",
    "print(\"This is normal!\")\n",
    "print(mi)"
   ]
  },
  {
   "cell_type": "code",
   "execution_count": 2,
   "metadata": {},
   "outputs": [
    {
     "data": {
      "text/plain": [
       "<_io.TextIOWrapper name='test.py' mode='+r' encoding='UTF-8'>"
      ]
     },
     "execution_count": 2,
     "metadata": {},
     "output_type": "execute_result"
    }
   ],
   "source": [
    "open('test.py', '+r').__enter__()"
   ]
  },
  {
   "cell_type": "markdown",
   "metadata": {},
   "source": [
    "Using `@contextmanager` reduces the boilerplate of creating a context manager:\n",
    "instead of writing a whole class with `__enter__/__exit__` methods, you just implement a generator with a single yield that should produce whatever you want the `__enter__` method to return.\n",
    "\n",
    "\n",
    "In a generator decorated with `@contextmanager`, yield splits the body of the function in two parts: everything before the yield will be executed at the beginning of the with block when the interpreter calls `__enter__`; the code after yield will run when `__exit__` is called at the end of the block."
   ]
  },
  {
   "cell_type": "code",
   "execution_count": 3,
   "metadata": {},
   "outputs": [],
   "source": [
    "import contextlib\n",
    "import sys\n",
    "\n",
    "@contextlib.contextmanager\n",
    "def looking_glass():\n",
    "    original_write = sys.stdout.write\n",
    "\n",
    "    def reverse_write(text):\n",
    "        original_write(text[::-1])\n",
    "\n",
    "    sys.stdout.write = reverse_write\n",
    "    yield \"JABBERWOCKY\"\n",
    "    sys.stdout.write = original_write"
   ]
  },
  {
   "cell_type": "code",
   "execution_count": 5,
   "metadata": {},
   "outputs": [
    {
     "name": "stdout",
     "output_type": "stream",
     "text": [
      "pordwons dna yttik ,ecilA\n",
      "YKCOWREBBAJ\n",
      "JABBERWOCKY\n",
      "Back to normal\n"
     ]
    }
   ],
   "source": [
    "with looking_glass() as what:\n",
    "    print('Alice, kitty and snowdrop')\n",
    "    print(what)\n",
    "\n",
    "print(what)\n",
    "print('Back to normal')"
   ]
  },
  {
   "cell_type": "code",
   "execution_count": 7,
   "metadata": {},
   "outputs": [
    {
     "name": "stdout",
     "output_type": "stream",
     "text": [
      "inside enter the context\n",
      "inside context manager\n",
      "Atiyeh\n",
      "inside the close context\n",
      "Atiyeh\n"
     ]
    }
   ],
   "source": [
    "@contextlib.contextmanager\n",
    "def foo():\n",
    "    print('inside enter the context')\n",
    "    yield 'Atiyeh'\n",
    "    print(\"inside the close context\")\n",
    "\n",
    "with foo() as Ati:\n",
    "    print('inside context manager')\n",
    "    print(Ati)\n",
    "\n",
    "print(Ati)"
   ]
  },
  {
   "cell_type": "markdown",
   "metadata": {},
   "source": [
    "A little-known feature of `@contextmanager` is that the generators decorated with it can also be used as decorators themselves"
   ]
  },
  {
   "cell_type": "code",
   "execution_count": 9,
   "metadata": {},
   "outputs": [
    {
     "name": "stdout",
     "output_type": "stream",
     "text": [
      ".emoc sah emit ehT\n",
      "Back to normal!\n"
     ]
    }
   ],
   "source": [
    "@looking_glass()\n",
    "def temp():\n",
    "     print('The time has come.')\n",
    "\n",
    "temp()\n",
    "print('Back to normal!')"
   ]
  },
  {
   "cell_type": "code",
   "execution_count": 11,
   "metadata": {},
   "outputs": [],
   "source": [
    "from contextlib import contextmanager\n",
    "import io\n",
    "import os\n",
    "\n",
    "\n",
    "@contextmanager\n",
    "def inplace(filename, mode='r', buffering=-1, encoding=None, errors=None,\n",
    "            newline=None, backup_extension=None):\n",
    "    \"\"\"Allow for a file to be replaced with new content.\n",
    "\n",
    "    yields a tuple of (readable, writable) file objects, where writable\n",
    "    replaces readable.\n",
    "\n",
    "    If an exception occurs, the old file is restored, removing the\n",
    "    written data.\n",
    "\n",
    "    mode should *not* use 'w', 'a' or '+'; only read-only-modes are supported.\n",
    "\n",
    "    \"\"\"\n",
    "\n",
    "    # move existing file to backup, create new file with same permissions\n",
    "    # borrowed extensively from the fileinput module\n",
    "    if set(mode).intersection('wa+'):\n",
    "        raise ValueError('Only read-only file modes can be used')\n",
    "\n",
    "    backupfilename = filename + (backup_extension or os.extsep + 'bak')\n",
    "    try:\n",
    "        os.unlink(backupfilename)\n",
    "    except os.error:\n",
    "        pass\n",
    "    os.rename(filename, backupfilename)\n",
    "    readable = io.open(backupfilename, mode, buffering=buffering,\n",
    "                       encoding=encoding, errors=errors, newline=newline)\n",
    "    try:\n",
    "        perm = os.fstat(readable.fileno()).st_mode\n",
    "    except OSError:\n",
    "        writable = open(filename, 'w' + mode.replace('r', ''),\n",
    "                        buffering=buffering, encoding=encoding, errors=errors,\n",
    "                        newline=newline)\n",
    "    else:\n",
    "        os_mode = os.O_CREAT | os.O_WRONLY | os.O_TRUNC\n",
    "        if hasattr(os, 'O_BINARY'):\n",
    "            os_mode |= os.O_BINARY\n",
    "        fd = os.open(filename, os_mode, perm)\n",
    "        writable = io.open(fd, \"w\" + mode.replace('r', ''), buffering=buffering,\n",
    "                           encoding=encoding, errors=errors, newline=newline)\n",
    "        try:\n",
    "            if hasattr(os, 'chmod'):\n",
    "                os.chmod(filename, perm)\n",
    "        except OSError:\n",
    "            pass\n",
    "    try:\n",
    "        yield readable, writable ## The end of the __enter__\n",
    "    except Exception:\n",
    "        # move backup back\n",
    "        try:\n",
    "            os.unlink(filename)\n",
    "        except os.error:\n",
    "            pass\n",
    "        os.rename(backupfilename, filename)\n",
    "        raise\n",
    "    finally:\n",
    "        readable.close()\n",
    "        writable.close()\n",
    "        try:\n",
    "            os.unlink(backupfilename)\n",
    "        except os.error:\n",
    "            pass"
   ]
  },
  {
   "cell_type": "code",
   "execution_count": 13,
   "metadata": {},
   "outputs": [],
   "source": [
    "import csv\n",
    "\n",
    "with inplace('test.csv', 'r', newline='') as (infh, outfh):\n",
    "    reader = csv.reader(infh)\n",
    "    writer =  csv.writer(outfh)\n",
    "    \n",
    "    for row in reader:\n",
    "        row += ['new', 'columns']\n",
    "        writer.writerow(row)"
   ]
  },
  {
   "cell_type": "markdown",
   "metadata": {},
   "source": [
    "#### Question 1:\n",
    "Implement a context manager in two ways (class-based and function-based) that temporarily changes the working directory to a given path, and returns to the original directory when done.\n"
   ]
  },
  {
   "cell_type": "code",
   "execution_count": 10,
   "metadata": {},
   "outputs": [],
   "source": [
    "import os\n",
    "from contextlib import contextmanager\n",
    "\n",
    "@contextmanager\n",
    "def change_directory(path):\n",
    "    current_path = os.getcwd()\n",
    "    os.chdir(path)\n",
    "    print(os.getcwd())\n",
    "    yield \"Changed Directory\"\n",
    "    os.chdir(current_path)\n",
    "    print(os.getcwd())"
   ]
  },
  {
   "cell_type": "markdown",
   "metadata": {},
   "source": [
    "Feedbacks on answer:\n",
    "✅ Minor: You don’t need to print(os.getcwd()) unless for debugging (but it's harmless here).\n",
    "✅ Problem: If an exception occurs inside yield, the final os.chdir(current_path) might not execute properly if not placed in a try/finally.\n",
    "\n",
    "``` import os\n",
    "from contextlib import contextmanager\n",
    "\n",
    "@contextmanager\n",
    "def change_directory(path):\n",
    "    current_path = os.getcwd()\n",
    "    os.chdir(path)\n",
    "    print(f\"Changed to {os.getcwd()}\")\n",
    "    try:\n",
    "        yield \"Changed Directory\"\n",
    "    finally:\n",
    "        os.chdir(current_path)\n",
    "        print(f\"Returned to {os.getcwd()}\")\n",
    "```"
   ]
  },
  {
   "cell_type": "code",
   "execution_count": 11,
   "metadata": {},
   "outputs": [
    {
     "name": "stdout",
     "output_type": "stream",
     "text": [
      "/home/atiyehghm/Desktop/Building-LLM_book/.venv\n",
      "['lib64', 'bin', 'lib', 'pyvenv.cfg', 'include', 'share']\n",
      "/home/atiyehghm/Desktop/Building-LLM_book\n",
      "Changed Directory\n"
     ]
    }
   ],
   "source": [
    "with change_directory('.venv/') as m:\n",
    "    print(os.listdir(os.getcwd()))\n",
    "\n",
    "print(m)"
   ]
  },
  {
   "cell_type": "code",
   "execution_count": 28,
   "metadata": {},
   "outputs": [],
   "source": [
    "class ChangeDirectory:\n",
    "    def __init__(self, path):\n",
    "        self.current_path = os.getcwd()\n",
    "        self.change_path = path\n",
    "\n",
    "    def __enter__(self):\n",
    "        os.chdir(self.change_path)\n",
    "        print(f\"Changed to {os.getcwd()}\")\n",
    "        return \"Changed Directory!\"\n",
    "    \n",
    "    ## the exit method should always have these four arguments\n",
    "    def __exit__(self, exc_type, exc_val, exc_tb):\n",
    "        os.chdir(self.current_path)\n",
    "        print(\"Done with changed directory!\")"
   ]
  },
  {
   "cell_type": "code",
   "execution_count": 31,
   "metadata": {},
   "outputs": [
    {
     "name": "stdout",
     "output_type": "stream",
     "text": [
      "Changed to /home/atiyehghm/Desktop/Building-LLM_book/temp\n",
      "['temp.py']\n",
      "Done with changed directory!\n",
      "/home/atiyehghm/Desktop/Building-LLM_book/.venv\n",
      "Changed Directory!\n"
     ]
    }
   ],
   "source": [
    "with ChangeDirectory('/home/atiyehghm/Desktop/Building-LLM_book/temp') as m:\n",
    "    print(os.listdir(os.getcwd()))\n",
    "\n",
    "print(os.getcwd())\n",
    "print(m)"
   ]
  },
  {
   "cell_type": "markdown",
   "metadata": {},
   "source": [
    "### match/case"
   ]
  },
  {
   "cell_type": "code",
   "execution_count": 17,
   "metadata": {},
   "outputs": [
    {
     "data": {
      "text/plain": [
       "2"
      ]
     },
     "execution_count": 17,
     "metadata": {},
     "output_type": "execute_result"
    }
   ],
   "source": [
    "from collections import ChainMap\n",
    "\n",
    "m1 = {'a':1, 'b':2, 'c': 3}\n",
    "m2 = {'a':2, 'z': 3, 'y':6}\n",
    "\n",
    "cm = ChainMap(m2, m1)\n",
    "cm['a']"
   ]
  },
  {
   "cell_type": "code",
   "execution_count": 14,
   "metadata": {},
   "outputs": [
    {
     "name": "stdout",
     "output_type": "stream",
     "text": [
      "Hello\n"
     ]
    }
   ],
   "source": [
    "x = ['Hello, ', 'maryam']\n",
    "x = 'Hello'\n",
    "match x:\n",
    "    case int(x):\n",
    "        print('Int')\n",
    "    case float(x):\n",
    "        print('Float')\n",
    "    case ['Hello, ', name]:\n",
    "        print(name)\n",
    "    case 'Hello':\n",
    "        print(x)"
   ]
  },
  {
   "cell_type": "markdown",
   "metadata": {},
   "source": [
    "As I've found out there is no pattern matching for a string directly. but we can use regex to use it."
   ]
  },
  {
   "cell_type": "code",
   "execution_count": null,
   "metadata": {},
   "outputs": [],
   "source": [
    "import re\n",
    "\n",
    "def check_string(s):\n",
    "    match s:\n",
    "        case s if re.match(r\"\\d{4}-\\d{2}-\\d{2}\", s):\n",
    "            print(\"This is a date in YYYY-MM-DD format.\")\n",
    "        case s if re.match(r\"[A-Za-z0-9._%+-]+@[A-Za-z0-9.-]+\\.[A-Za-z]{2,}\", s):\n",
    "            print(\"This is an email address.\")\n",
    "            \n",
    "        case _:\n",
    "            print(\"No match found.\")"
   ]
  },
  {
   "cell_type": "code",
   "execution_count": 33,
   "metadata": {},
   "outputs": [
    {
     "name": "stdout",
     "output_type": "stream",
     "text": [
      "This is an email address.\n",
      "This is a date in YYYY-MM-DD format.\n"
     ]
    }
   ],
   "source": [
    "check_string('atiyeh1997@gmail.com')\n",
    "check_string('2025-03-01')"
   ]
  },
  {
   "cell_type": "markdown",
   "metadata": {},
   "source": [
    "### `else` Block\n",
    "\n",
    "the else clause can be used **not only** in `if` statements but also in `for`, `while`, and `try` statements.\n",
    "\n",
    "**for**\n",
    "\n",
    "\n",
    "The else block will run only if and when the for loop runs to completion (i.e.,not if the for is aborted with a break).\n",
    "\n",
    "\n",
    "**while**\n",
    "\n",
    "\n",
    "The else block will run only if and when the while loop exits because the condition became falsy (i.e., not if the while is aborted with a break).\n",
    "\n",
    "\n",
    "**try**\n",
    "\n",
    "\n",
    "The else block will run only if no exception is raised in the try block.\n"
   ]
  },
  {
   "cell_type": "code",
   "execution_count": null,
   "metadata": {},
   "outputs": [],
   "source": [
    "## the example of the try/ except\n",
    "\n",
    "try: \n",
    "    dangerous_call()\n",
    "except OSError:\n",
    "    log('OSError...')\n",
    "else:\n",
    "    after_call()\n",
    "\n",
    " ##In this exmaple the after_call runs if there are no exceptions in try Block   "
   ]
  },
  {
   "cell_type": "markdown",
   "metadata": {},
   "source": [
    "**To Know**: python uses the **EAFP** approach that assumes the existence of valid keys or attributes. (Easier to Ask for forgiveness than permission.) On the other hand, languages like C use **LBYL** approach which tests for pre-conditions before-hand.(look beafore you leap.)"
   ]
  },
  {
   "cell_type": "markdown",
   "metadata": {},
   "source": [
    "#### Question 2\n",
    "Write a function that takes a list of integers. For each number, use match-case to print:\n",
    "\n",
    "\"Prime\" if the number is prime\n",
    "\n",
    "\"Even\" if it is even (but not prime)\n",
    "\n",
    "\"Odd\" otherwise"
   ]
  },
  {
   "cell_type": "code",
   "execution_count": 45,
   "metadata": {},
   "outputs": [],
   "source": [
    "def is_prime(a):\n",
    "    for i in range(2, a//2 + 1):\n",
    "        if a % i == 0:\n",
    "            return False\n",
    "    return True\n",
    "\n",
    "def odd_even_prime(arr):\n",
    "    for a in arr:\n",
    "        match a:\n",
    "            case a if is_prime(a):\n",
    "                print(\"Prime\")\n",
    "            case a if a % 2 == 0:\n",
    "                print(\"Even\")\n",
    "            case a if a % 2 == 1:\n",
    "                 print('Odd')\n",
    "    else:\n",
    "        print(\"All Numbers Are Processed!\")"
   ]
  },
  {
   "cell_type": "code",
   "execution_count": 46,
   "metadata": {},
   "outputs": [
    {
     "name": "stdout",
     "output_type": "stream",
     "text": [
      "Prime\n",
      "Even\n",
      "Even\n",
      "Prime\n",
      "Even\n",
      "Prime\n",
      "Odd\n",
      "Prime\n",
      "All Numbers Are Processed!\n"
     ]
    }
   ],
   "source": [
    "odd_even_prime([2, 4,6, 71, 28, 17 , 33, 89])"
   ]
  },
  {
   "cell_type": "markdown",
   "metadata": {},
   "source": [
    "#### Question3\n",
    "Write a function that repeatedly asks the user to enter commands until they type \"quit\". Use match-case to handle:\n",
    "\n",
    "\"hello\" → print \"Hi there!\"\n",
    "\n",
    "\"bye\" → print \"Goodbye!\" and break the loop\n",
    "\n",
    "any other command → print \"Unknown command\""
   ]
  },
  {
   "cell_type": "code",
   "execution_count": null,
   "metadata": {},
   "outputs": [],
   "source": [
    "def screen():\n",
    "    while True:\n",
    "        text = input()\n",
    "        match text:\n",
    "            case \"hello\":\n",
    "                print('Hi there!')\n",
    "            case \"bye\":\n",
    "                print('Goodbye!')\n",
    "            case 'quit':\n",
    "                break\n",
    "            case _:\n",
    "                print(\"Unkown Command\")\n",
    "    else:\n",
    "        print('Exited normally without saying goodbye')\n",
    "        return\n",
    "                "
   ]
  },
  {
   "cell_type": "code",
   "execution_count": null,
   "metadata": {},
   "outputs": [
    {
     "name": "stdout",
     "output_type": "stream",
     "text": [
      "Unkown Command\n",
      "Unkown Command\n",
      "Unkown Command\n",
      "Unkown Command\n",
      "Unkown Command\n"
     ]
    }
   ],
   "source": [
    "screen()"
   ]
  },
  {
   "cell_type": "code",
   "execution_count": null,
   "metadata": {},
   "outputs": [],
   "source": []
  }
 ],
 "metadata": {
  "kernelspec": {
   "display_name": ".venv",
   "language": "python",
   "name": "python3"
  },
  "language_info": {
   "codemirror_mode": {
    "name": "ipython",
    "version": 3
   },
   "file_extension": ".py",
   "mimetype": "text/x-python",
   "name": "python",
   "nbconvert_exporter": "python",
   "pygments_lexer": "ipython3",
   "version": "3.12.3"
  }
 },
 "nbformat": 4,
 "nbformat_minor": 2
}
